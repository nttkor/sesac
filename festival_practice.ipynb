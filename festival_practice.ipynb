{
 "cells": [
  {
   "cell_type": "markdown",
   "metadata": {},
   "source": [
    "# [프로젝트] 공연 및 축제 데이터 분석하기"
   ]
  },
  {
   "cell_type": "markdown",
   "metadata": {},
   "source": [
    "---"
   ]
  },
  {
   "cell_type": "markdown",
   "metadata": {},
   "source": [
    "## 프로젝트 개요"
   ]
  },
  {
   "cell_type": "markdown",
   "metadata": {},
   "source": [
    "주말이면 어디선가 들려오는 음악 소리, 무심코 지나친 그 공연은 어떤 행사였을까요?     \n",
    "\n",
    ">\"문화 축제는 주로 어느 시기에 많이 열릴까?     \n",
    ">\"공연이나 행사에서 가장 많이 등장하는 키워드는 뭘까?\"     \n",
    ">\"지역별 공연 행사 규모를 지도로 한눈에 살펴볼 순 없을까?\"\n",
    "\n",
    "이번 프로젝트에서는 전국의 공연 행사 및 문화 축제 데이터를 기반으로, 시기/지역별 개최 현황, 규모 등을 탐색합니다.    "
   ]
  },
  {
   "cell_type": "markdown",
   "metadata": {},
   "source": [
    "---"
   ]
  },
  {
   "cell_type": "markdown",
   "metadata": {},
   "source": [
    "## 프로젝트 목표"
   ]
  },
  {
   "cell_type": "markdown",
   "metadata": {},
   "source": [
    "- 공연 행사 및 문화 축제 데이터를 바탕으로 월별 행사 개최 현황, 지역별 공연 분포 및 규모, 행사 키워드 등을 분석\n",
    "- 탐색적 데이터 분석을 수행하기 위한 데이터 정제, 시각화 방법 및 통계 기초 학습"
   ]
  },
  {
   "cell_type": "markdown",
   "metadata": {},
   "source": [
    "---"
   ]
  },
  {
   "cell_type": "markdown",
   "metadata": {},
   "source": [
    "## 데이터 출처"
   ]
  },
  {
   "cell_type": "markdown",
   "metadata": {},
   "source": [
    "공공데이터포털 - 전국공연행사정보표준데이터    \n",
    "https://www.data.go.kr/data/15013106/standard.do#\n",
    "\n",
    "공공데이터포털 - 전국문화축제표준데이터     \n",
    "https://www.data.go.kr/data/15013104/standard.do"
   ]
  },
  {
   "cell_type": "markdown",
   "metadata": {},
   "source": [
    "---"
   ]
  },
  {
   "cell_type": "markdown",
   "metadata": {},
   "source": [
    "## 목차"
   ]
  },
  {
   "cell_type": "markdown",
   "metadata": {},
   "source": [
    "1. 데이터 읽기   \n",
    "2. 데이터 정제하기   \n",
    "3. 데이터 분석하기     \n",
    "    - 월별 행사 개최 현황 분석\n",
    "    - 지역별 행사 분포 및 규모 시각화\n",
    "    - 입장 연령 분포 분석\n",
    "    - 행사 내용 키워드 분석\n",
    "    - 관람 요금 분석\n",
    "4. 퀴즈 제출하기"
   ]
  },
  {
   "cell_type": "markdown",
   "metadata": {},
   "source": [
    "---"
   ]
  },
  {
   "cell_type": "markdown",
   "metadata": {},
   "source": [
    "## 1. 데이터 읽기"
   ]
  },
  {
   "cell_type": "markdown",
   "metadata": {},
   "source": [
    "### 1.1. 데이터 불러오기"
   ]
  },
  {
   "cell_type": "markdown",
   "metadata": {},
   "source": [
    "이번 프로젝트에 필요한 라이브러리를 불러옵니다."
   ]
  },
  {
   "cell_type": "code",
   "execution_count": 1,
   "metadata": {},
   "outputs": [],
   "source": [
    "import pandas as pd\n",
    "pd.set_option('display.max_columns', None)\n",
    "import matplotlib.pyplot as plt\n",
    "import matplotlib as mpl\n",
    "mpl.rc('font', family='NanumGothic')\n",
    "import folium\n",
    "import numpy as np\n",
    "import re\n",
    "import random\n",
    "from collections import Counter\n",
    "from wordcloud import WordCloud\n",
    "from sklearn.feature_extraction.text import CountVectorizer\n",
    "from konlpy.tag import Okt"
   ]
  },
  {
   "cell_type": "markdown",
   "metadata": {},
   "source": [
    "분석에 사용할 데이터는 크게 '공연 행사'와 '문화 축제' 데이터로 구분되어 있습니다.    \n",
    "먼저 '공연 행사'와 관련한 데이터를 확인해 볼까요?"
   ]
  },
  {
   "cell_type": "code",
   "execution_count": 4,
   "metadata": {},
   "outputs": [
    {
     "data": {
      "text/html": [
       "<div>\n",
       "<style scoped>\n",
       "    .dataframe tbody tr th:only-of-type {\n",
       "        vertical-align: middle;\n",
       "    }\n",
       "\n",
       "    .dataframe tbody tr th {\n",
       "        vertical-align: top;\n",
       "    }\n",
       "\n",
       "    .dataframe thead th {\n",
       "        text-align: right;\n",
       "    }\n",
       "</style>\n",
       "<table border=\"1\" class=\"dataframe\">\n",
       "  <thead>\n",
       "    <tr style=\"text-align: right;\">\n",
       "      <th></th>\n",
       "      <th>행사명</th>\n",
       "      <th>장소</th>\n",
       "      <th>행사내용</th>\n",
       "      <th>행사시작일자</th>\n",
       "      <th>행사종료일자</th>\n",
       "      <th>행사시작시각</th>\n",
       "      <th>행사종료시각</th>\n",
       "      <th>요금정보</th>\n",
       "      <th>주관기관명</th>\n",
       "      <th>주최기관명</th>\n",
       "      <th>전화번호</th>\n",
       "      <th>후원기관명</th>\n",
       "      <th>객석수</th>\n",
       "      <th>관람요금</th>\n",
       "      <th>입장연령</th>\n",
       "      <th>할인정보</th>\n",
       "      <th>유의사항</th>\n",
       "      <th>홈페이지주소</th>\n",
       "      <th>예매정보</th>\n",
       "      <th>주차장보유여부</th>\n",
       "      <th>소재지도로명주소</th>\n",
       "      <th>소재지지번주소</th>\n",
       "      <th>위도</th>\n",
       "      <th>경도</th>\n",
       "      <th>데이터기준일자</th>\n",
       "      <th>제공기관코드</th>\n",
       "      <th>제공기관명</th>\n",
       "    </tr>\n",
       "  </thead>\n",
       "  <tbody>\n",
       "    <tr>\n",
       "      <th>0</th>\n",
       "      <td>나의 노래 공연</td>\n",
       "      <td>금산다락원 생명의집</td>\n",
       "      <td>김광석을 동경하는 무명 가수 이야기</td>\n",
       "      <td>2018-11-02</td>\n",
       "      <td>2018-11-02</td>\n",
       "      <td>14:00</td>\n",
       "      <td>21:00</td>\n",
       "      <td>유료</td>\n",
       "      <td>한국문화예술회관연합회+충청남도 금산군청+금산다락원</td>\n",
       "      <td>한국문화예술회관연합회+충청남도 금산군청+금산다락원</td>\n",
       "      <td>041-750-4424</td>\n",
       "      <td>복권위원회+문화체육관광부</td>\n",
       "      <td>1404.0</td>\n",
       "      <td>5000</td>\n",
       "      <td>7세이상</td>\n",
       "      <td>NaN</td>\n",
       "      <td>NaN</td>\n",
       "      <td>http://www.geumsan.go.kr/daragwon/</td>\n",
       "      <td>https://daragwon.moonhwain.net:451/rsvp/login....</td>\n",
       "      <td>Y</td>\n",
       "      <td>충청남도 금산군 금산읍 금산로 1559</td>\n",
       "      <td>충청남도 금산군 금산읍 중도리 203-1</td>\n",
       "      <td>36.112068</td>\n",
       "      <td>127.491637</td>\n",
       "      <td>2025-02-03</td>\n",
       "      <td>4550000</td>\n",
       "      <td>충청남도 금산군</td>\n",
       "    </tr>\n",
       "    <tr>\n",
       "      <th>1</th>\n",
       "      <td>정글북</td>\n",
       "      <td>금산다락원 생명의집</td>\n",
       "      <td>애니메이션 정글북을 원작으로 한 모험 극</td>\n",
       "      <td>2018-11-07</td>\n",
       "      <td>2018-11-07</td>\n",
       "      <td>11:00</td>\n",
       "      <td>21:00</td>\n",
       "      <td>유료</td>\n",
       "      <td>충청남도 금산군청+금산다락원</td>\n",
       "      <td>충청남도 금산군청+금산다락원</td>\n",
       "      <td>041-750-4423</td>\n",
       "      <td>NaN</td>\n",
       "      <td>352.0</td>\n",
       "      <td>1000</td>\n",
       "      <td>48개월이상</td>\n",
       "      <td>NaN</td>\n",
       "      <td>NaN</td>\n",
       "      <td>http://www.geumsan.go.kr/daragwon/</td>\n",
       "      <td>https://daragwon.moonhwain.net:451/rsvp/login....</td>\n",
       "      <td>Y</td>\n",
       "      <td>충청남도 금산군 금산읍 금산로 1559</td>\n",
       "      <td>충청남도 금산군 금산읍 중도리 203-1</td>\n",
       "      <td>36.112068</td>\n",
       "      <td>127.491637</td>\n",
       "      <td>2025-02-03</td>\n",
       "      <td>4550000</td>\n",
       "      <td>충청남도 금산군</td>\n",
       "    </tr>\n",
       "    <tr>\n",
       "      <th>2</th>\n",
       "      <td>정글북</td>\n",
       "      <td>금산다락원 생명의집</td>\n",
       "      <td>애니메이션 정글북을 원작으로 한 모험 극</td>\n",
       "      <td>2018-11-08</td>\n",
       "      <td>2018-11-08</td>\n",
       "      <td>11:00</td>\n",
       "      <td>21:00</td>\n",
       "      <td>유료</td>\n",
       "      <td>충청남도 금산군청+금산다락원</td>\n",
       "      <td>충청남도 금산군청+금산다락원</td>\n",
       "      <td>041-750-4423</td>\n",
       "      <td>NaN</td>\n",
       "      <td>526.0</td>\n",
       "      <td>1000</td>\n",
       "      <td>48개월이상</td>\n",
       "      <td>NaN</td>\n",
       "      <td>NaN</td>\n",
       "      <td>http://www.geumsan.go.kr/daragwon/</td>\n",
       "      <td>https://daragwon.moonhwain.net:451/rsvp/login....</td>\n",
       "      <td>Y</td>\n",
       "      <td>충청남도 금산군 금산읍 금산로 1559</td>\n",
       "      <td>충청남도 금산군 금산읍 중도리 203-1</td>\n",
       "      <td>36.112068</td>\n",
       "      <td>127.491637</td>\n",
       "      <td>2025-02-03</td>\n",
       "      <td>4550000</td>\n",
       "      <td>충청남도 금산군</td>\n",
       "    </tr>\n",
       "    <tr>\n",
       "      <th>3</th>\n",
       "      <td>뮤지컬디스이즈잇 힙합공연</td>\n",
       "      <td>금산다락원 생명의집</td>\n",
       "      <td>청소년들에게 꿈과 희망을 주는 멘토들의 신나는 힙합공연+DJ쇼</td>\n",
       "      <td>2018-11-16</td>\n",
       "      <td>2018-11-16</td>\n",
       "      <td>14:00</td>\n",
       "      <td>21:00</td>\n",
       "      <td>무료</td>\n",
       "      <td>한국문화예술회관연합회+충청남도 금산군청+금산다락원</td>\n",
       "      <td>한국문화예술회관연합회+충청남도 금산군청+금산다락원</td>\n",
       "      <td>041-750-4424</td>\n",
       "      <td>복권위원회+문화체육관광부</td>\n",
       "      <td>727.0</td>\n",
       "      <td>NaN</td>\n",
       "      <td>전체관람가</td>\n",
       "      <td>NaN</td>\n",
       "      <td>NaN</td>\n",
       "      <td>http://www.geumsan.go.kr/daragwon/</td>\n",
       "      <td>https://daragwon.moonhwain.net:451/rsvp/login....</td>\n",
       "      <td>Y</td>\n",
       "      <td>충청남도 금산군 금산읍 금산로 1559</td>\n",
       "      <td>충청남도 금산군 금산읍 중도리 203-1</td>\n",
       "      <td>36.112068</td>\n",
       "      <td>127.491637</td>\n",
       "      <td>2025-02-03</td>\n",
       "      <td>4550000</td>\n",
       "      <td>충청남도 금산군</td>\n",
       "    </tr>\n",
       "    <tr>\n",
       "      <th>4</th>\n",
       "      <td>수능 탈출 콘서트</td>\n",
       "      <td>금산다락원 생명의집</td>\n",
       "      <td>수험시험에 지친 청소년들을 위한 공연</td>\n",
       "      <td>2018-11-19</td>\n",
       "      <td>2018-11-19</td>\n",
       "      <td>15:00</td>\n",
       "      <td>21:00</td>\n",
       "      <td>무료</td>\n",
       "      <td>충청남도 금산군청+금산다락원</td>\n",
       "      <td>충청남도 금산군청+금산다락원</td>\n",
       "      <td>041-750-4423</td>\n",
       "      <td>NaN</td>\n",
       "      <td>400.0</td>\n",
       "      <td>NaN</td>\n",
       "      <td>전체관람가</td>\n",
       "      <td>NaN</td>\n",
       "      <td>NaN</td>\n",
       "      <td>http://www.geumsan.go.kr/daragwon/</td>\n",
       "      <td>https://daragwon.moonhwain.net:451/rsvp/login....</td>\n",
       "      <td>Y</td>\n",
       "      <td>충청남도 금산군 금산읍 금산로 1559</td>\n",
       "      <td>충청남도 금산군 금산읍 중도리 203-1</td>\n",
       "      <td>36.112068</td>\n",
       "      <td>127.491637</td>\n",
       "      <td>2025-02-03</td>\n",
       "      <td>4550000</td>\n",
       "      <td>충청남도 금산군</td>\n",
       "    </tr>\n",
       "  </tbody>\n",
       "</table>\n",
       "</div>"
      ],
      "text/plain": [
       "             행사명          장소                                행사내용      행사시작일자  \\\n",
       "0       나의 노래 공연  금산다락원 생명의집                 김광석을 동경하는 무명 가수 이야기  2018-11-02   \n",
       "1            정글북  금산다락원 생명의집              애니메이션 정글북을 원작으로 한 모험 극  2018-11-07   \n",
       "2            정글북  금산다락원 생명의집              애니메이션 정글북을 원작으로 한 모험 극  2018-11-08   \n",
       "3  뮤지컬디스이즈잇 힙합공연  금산다락원 생명의집  청소년들에게 꿈과 희망을 주는 멘토들의 신나는 힙합공연+DJ쇼  2018-11-16   \n",
       "4      수능 탈출 콘서트  금산다락원 생명의집                수험시험에 지친 청소년들을 위한 공연  2018-11-19   \n",
       "\n",
       "       행사종료일자 행사시작시각 행사종료시각 요금정보                        주관기관명  \\\n",
       "0  2018-11-02  14:00  21:00   유료  한국문화예술회관연합회+충청남도 금산군청+금산다락원   \n",
       "1  2018-11-07  11:00  21:00   유료              충청남도 금산군청+금산다락원   \n",
       "2  2018-11-08  11:00  21:00   유료              충청남도 금산군청+금산다락원   \n",
       "3  2018-11-16  14:00  21:00   무료  한국문화예술회관연합회+충청남도 금산군청+금산다락원   \n",
       "4  2018-11-19  15:00  21:00   무료              충청남도 금산군청+금산다락원   \n",
       "\n",
       "                         주최기관명          전화번호          후원기관명     객석수  관람요금  \\\n",
       "0  한국문화예술회관연합회+충청남도 금산군청+금산다락원  041-750-4424  복권위원회+문화체육관광부  1404.0  5000   \n",
       "1              충청남도 금산군청+금산다락원  041-750-4423            NaN   352.0  1000   \n",
       "2              충청남도 금산군청+금산다락원  041-750-4423            NaN   526.0  1000   \n",
       "3  한국문화예술회관연합회+충청남도 금산군청+금산다락원  041-750-4424  복권위원회+문화체육관광부   727.0   NaN   \n",
       "4              충청남도 금산군청+금산다락원  041-750-4423            NaN   400.0   NaN   \n",
       "\n",
       "     입장연령 할인정보 유의사항                              홈페이지주소  \\\n",
       "0    7세이상  NaN  NaN  http://www.geumsan.go.kr/daragwon/   \n",
       "1  48개월이상  NaN  NaN  http://www.geumsan.go.kr/daragwon/   \n",
       "2  48개월이상  NaN  NaN  http://www.geumsan.go.kr/daragwon/   \n",
       "3   전체관람가  NaN  NaN  http://www.geumsan.go.kr/daragwon/   \n",
       "4   전체관람가  NaN  NaN  http://www.geumsan.go.kr/daragwon/   \n",
       "\n",
       "                                                예매정보 주차장보유여부  \\\n",
       "0  https://daragwon.moonhwain.net:451/rsvp/login....       Y   \n",
       "1  https://daragwon.moonhwain.net:451/rsvp/login....       Y   \n",
       "2  https://daragwon.moonhwain.net:451/rsvp/login....       Y   \n",
       "3  https://daragwon.moonhwain.net:451/rsvp/login....       Y   \n",
       "4  https://daragwon.moonhwain.net:451/rsvp/login....       Y   \n",
       "\n",
       "                소재지도로명주소                 소재지지번주소         위도          경도  \\\n",
       "0  충청남도 금산군 금산읍 금산로 1559  충청남도 금산군 금산읍 중도리 203-1  36.112068  127.491637   \n",
       "1  충청남도 금산군 금산읍 금산로 1559  충청남도 금산군 금산읍 중도리 203-1  36.112068  127.491637   \n",
       "2  충청남도 금산군 금산읍 금산로 1559  충청남도 금산군 금산읍 중도리 203-1  36.112068  127.491637   \n",
       "3  충청남도 금산군 금산읍 금산로 1559  충청남도 금산군 금산읍 중도리 203-1  36.112068  127.491637   \n",
       "4  충청남도 금산군 금산읍 금산로 1559  충청남도 금산군 금산읍 중도리 203-1  36.112068  127.491637   \n",
       "\n",
       "      데이터기준일자   제공기관코드     제공기관명  \n",
       "0  2025-02-03  4550000  충청남도 금산군  \n",
       "1  2025-02-03  4550000  충청남도 금산군  \n",
       "2  2025-02-03  4550000  충청남도 금산군  \n",
       "3  2025-02-03  4550000  충청남도 금산군  \n",
       "4  2025-02-03  4550000  충청남도 금산군  "
      ]
     },
     "execution_count": 4,
     "metadata": {},
     "output_type": "execute_result"
    }
   ],
   "source": [
    "# 공연 행사 데이터 불러오기\n",
    "event_df = pd.read_csv('data/전국공연행사정보표준데이터.csv', encoding='cp949')\n",
    "\n",
    "# 상위 5개 행 확인\n",
    "event_df.head()"
   ]
  },
  {
   "cell_type": "markdown",
   "metadata": {},
   "source": [
    "`event_df`의 각 컬럼 정보를 확인해 봅시다."
   ]
  },
  {
   "cell_type": "code",
   "execution_count": 5,
   "metadata": {},
   "outputs": [
    {
     "name": "stdout",
     "output_type": "stream",
     "text": [
      "<class 'pandas.core.frame.DataFrame'>\n",
      "RangeIndex: 7617 entries, 0 to 7616\n",
      "Data columns (total 27 columns):\n",
      " #   Column    Non-Null Count  Dtype  \n",
      "---  ------    --------------  -----  \n",
      " 0   행사명       7617 non-null   object \n",
      " 1   장소        7617 non-null   object \n",
      " 2   행사내용      7617 non-null   object \n",
      " 3   행사시작일자    7617 non-null   object \n",
      " 4   행사종료일자    7617 non-null   object \n",
      " 5   행사시작시각    7617 non-null   object \n",
      " 6   행사종료시각    7614 non-null   object \n",
      " 7   요금정보      7617 non-null   object \n",
      " 8   주관기관명     7617 non-null   object \n",
      " 9   주최기관명     7617 non-null   object \n",
      " 10  전화번호      6480 non-null   object \n",
      " 11  후원기관명     1341 non-null   object \n",
      " 12  객석수       5069 non-null   float64\n",
      " 13  관람요금      3355 non-null   object \n",
      " 14  입장연령      5261 non-null   object \n",
      " 15  할인정보      1598 non-null   object \n",
      " 16  유의사항      1336 non-null   object \n",
      " 17  홈페이지주소    5991 non-null   object \n",
      " 18  예매정보      2709 non-null   object \n",
      " 19  주차장보유여부   7617 non-null   object \n",
      " 20  소재지도로명주소  7501 non-null   object \n",
      " 21  소재지지번주소   5862 non-null   object \n",
      " 22  위도        5922 non-null   float64\n",
      " 23  경도        5922 non-null   float64\n",
      " 24  데이터기준일자   7617 non-null   object \n",
      " 25  제공기관코드    7617 non-null   object \n",
      " 26  제공기관명     7617 non-null   object \n",
      "dtypes: float64(3), object(24)\n",
      "memory usage: 1.6+ MB\n"
     ]
    }
   ],
   "source": [
    "# 공연 행사 데이터 컬럼 정보 확인\n",
    "event_df.info()"
   ]
  },
  {
   "cell_type": "markdown",
   "metadata": {},
   "source": [
    "각 행사의 이름과 내용, 일정, 장소, 객석 수, 입장 연령 등의 정보가 포함되어 있네요.     \n",
    "이제 분석에 사용할 주요 컬럼들을 세부적으로 살펴볼까요?"
   ]
  },
  {
   "cell_type": "markdown",
   "metadata": {},
   "source": [
    "`행사명` 열에는 각 행사의 제목이 담겨있습니다."
   ]
  },
  {
   "cell_type": "code",
   "execution_count": 6,
   "metadata": {},
   "outputs": [
    {
     "data": {
      "text/plain": [
       "0         나의 노래 공연\n",
       "1              정글북\n",
       "2              정글북\n",
       "3    뮤지컬디스이즈잇 힙합공연\n",
       "4        수능 탈출 콘서트\n",
       "Name: 행사명, dtype: object"
      ]
     },
     "execution_count": 6,
     "metadata": {},
     "output_type": "execute_result"
    }
   ],
   "source": [
    "# 행사명 상위 5개 행 확인\n",
    "event_df['행사명'].head()"
   ]
  },
  {
   "cell_type": "markdown",
   "metadata": {},
   "source": [
    "`장소`, `소재지도로명주소`, `위도`, `경도` 등은 각 행사 장소 정보를 저장하고 있습니다."
   ]
  },
  {
   "cell_type": "code",
   "execution_count": 7,
   "metadata": {},
   "outputs": [
    {
     "data": {
      "text/html": [
       "<div>\n",
       "<style scoped>\n",
       "    .dataframe tbody tr th:only-of-type {\n",
       "        vertical-align: middle;\n",
       "    }\n",
       "\n",
       "    .dataframe tbody tr th {\n",
       "        vertical-align: top;\n",
       "    }\n",
       "\n",
       "    .dataframe thead th {\n",
       "        text-align: right;\n",
       "    }\n",
       "</style>\n",
       "<table border=\"1\" class=\"dataframe\">\n",
       "  <thead>\n",
       "    <tr style=\"text-align: right;\">\n",
       "      <th></th>\n",
       "      <th>장소</th>\n",
       "      <th>소재지도로명주소</th>\n",
       "      <th>위도</th>\n",
       "      <th>경도</th>\n",
       "      <th>제공기관명</th>\n",
       "    </tr>\n",
       "  </thead>\n",
       "  <tbody>\n",
       "    <tr>\n",
       "      <th>0</th>\n",
       "      <td>금산다락원 생명의집</td>\n",
       "      <td>충청남도 금산군 금산읍 금산로 1559</td>\n",
       "      <td>36.112068</td>\n",
       "      <td>127.491637</td>\n",
       "      <td>충청남도 금산군</td>\n",
       "    </tr>\n",
       "    <tr>\n",
       "      <th>1</th>\n",
       "      <td>금산다락원 생명의집</td>\n",
       "      <td>충청남도 금산군 금산읍 금산로 1559</td>\n",
       "      <td>36.112068</td>\n",
       "      <td>127.491637</td>\n",
       "      <td>충청남도 금산군</td>\n",
       "    </tr>\n",
       "    <tr>\n",
       "      <th>2</th>\n",
       "      <td>금산다락원 생명의집</td>\n",
       "      <td>충청남도 금산군 금산읍 금산로 1559</td>\n",
       "      <td>36.112068</td>\n",
       "      <td>127.491637</td>\n",
       "      <td>충청남도 금산군</td>\n",
       "    </tr>\n",
       "    <tr>\n",
       "      <th>3</th>\n",
       "      <td>금산다락원 생명의집</td>\n",
       "      <td>충청남도 금산군 금산읍 금산로 1559</td>\n",
       "      <td>36.112068</td>\n",
       "      <td>127.491637</td>\n",
       "      <td>충청남도 금산군</td>\n",
       "    </tr>\n",
       "    <tr>\n",
       "      <th>4</th>\n",
       "      <td>금산다락원 생명의집</td>\n",
       "      <td>충청남도 금산군 금산읍 금산로 1559</td>\n",
       "      <td>36.112068</td>\n",
       "      <td>127.491637</td>\n",
       "      <td>충청남도 금산군</td>\n",
       "    </tr>\n",
       "  </tbody>\n",
       "</table>\n",
       "</div>"
      ],
      "text/plain": [
       "           장소               소재지도로명주소         위도          경도     제공기관명\n",
       "0  금산다락원 생명의집  충청남도 금산군 금산읍 금산로 1559  36.112068  127.491637  충청남도 금산군\n",
       "1  금산다락원 생명의집  충청남도 금산군 금산읍 금산로 1559  36.112068  127.491637  충청남도 금산군\n",
       "2  금산다락원 생명의집  충청남도 금산군 금산읍 금산로 1559  36.112068  127.491637  충청남도 금산군\n",
       "3  금산다락원 생명의집  충청남도 금산군 금산읍 금산로 1559  36.112068  127.491637  충청남도 금산군\n",
       "4  금산다락원 생명의집  충청남도 금산군 금산읍 금산로 1559  36.112068  127.491637  충청남도 금산군"
      ]
     },
     "execution_count": 7,
     "metadata": {},
     "output_type": "execute_result"
    }
   ],
   "source": [
    "# 위치 관련 컬럼 상위 5개 행 확인\n",
    "event_df[['장소', '소재지도로명주소', '위도', '경도', '제공기관명']].head()"
   ]
  },
  {
   "cell_type": "markdown",
   "metadata": {},
   "source": [
    "`행사명` 열에는 각 행사를 소개하는 간단한 문구가 텍스트로 저장되어 있습니다."
   ]
  },
  {
   "cell_type": "code",
   "execution_count": 8,
   "metadata": {},
   "outputs": [
    {
     "data": {
      "text/plain": [
       "0                   김광석을 동경하는 무명 가수 이야기\n",
       "1                애니메이션 정글북을 원작으로 한 모험 극\n",
       "2                애니메이션 정글북을 원작으로 한 모험 극\n",
       "3    청소년들에게 꿈과 희망을 주는 멘토들의 신나는 힙합공연+DJ쇼\n",
       "4                  수험시험에 지친 청소년들을 위한 공연\n",
       "Name: 행사내용, dtype: object"
      ]
     },
     "execution_count": 8,
     "metadata": {},
     "output_type": "execute_result"
    }
   ],
   "source": [
    "# 행사명 상위 5개 행 확인\n",
    "event_df['행사내용'].head()"
   ]
  },
  {
   "cell_type": "markdown",
   "metadata": {},
   "source": [
    "`행사시작일자`, `행사시작시각` 등은 각 행사의 일정 관련 정보를 담고 있습니다."
   ]
  },
  {
   "cell_type": "code",
   "execution_count": 9,
   "metadata": {},
   "outputs": [
    {
     "data": {
      "text/html": [
       "<div>\n",
       "<style scoped>\n",
       "    .dataframe tbody tr th:only-of-type {\n",
       "        vertical-align: middle;\n",
       "    }\n",
       "\n",
       "    .dataframe tbody tr th {\n",
       "        vertical-align: top;\n",
       "    }\n",
       "\n",
       "    .dataframe thead th {\n",
       "        text-align: right;\n",
       "    }\n",
       "</style>\n",
       "<table border=\"1\" class=\"dataframe\">\n",
       "  <thead>\n",
       "    <tr style=\"text-align: right;\">\n",
       "      <th></th>\n",
       "      <th>행사시작일자</th>\n",
       "      <th>행사종료일자</th>\n",
       "      <th>행사시작시각</th>\n",
       "      <th>행사종료시각</th>\n",
       "    </tr>\n",
       "  </thead>\n",
       "  <tbody>\n",
       "    <tr>\n",
       "      <th>0</th>\n",
       "      <td>2018-11-02</td>\n",
       "      <td>2018-11-02</td>\n",
       "      <td>14:00</td>\n",
       "      <td>21:00</td>\n",
       "    </tr>\n",
       "    <tr>\n",
       "      <th>1</th>\n",
       "      <td>2018-11-07</td>\n",
       "      <td>2018-11-07</td>\n",
       "      <td>11:00</td>\n",
       "      <td>21:00</td>\n",
       "    </tr>\n",
       "    <tr>\n",
       "      <th>2</th>\n",
       "      <td>2018-11-08</td>\n",
       "      <td>2018-11-08</td>\n",
       "      <td>11:00</td>\n",
       "      <td>21:00</td>\n",
       "    </tr>\n",
       "    <tr>\n",
       "      <th>3</th>\n",
       "      <td>2018-11-16</td>\n",
       "      <td>2018-11-16</td>\n",
       "      <td>14:00</td>\n",
       "      <td>21:00</td>\n",
       "    </tr>\n",
       "    <tr>\n",
       "      <th>4</th>\n",
       "      <td>2018-11-19</td>\n",
       "      <td>2018-11-19</td>\n",
       "      <td>15:00</td>\n",
       "      <td>21:00</td>\n",
       "    </tr>\n",
       "  </tbody>\n",
       "</table>\n",
       "</div>"
      ],
      "text/plain": [
       "       행사시작일자      행사종료일자 행사시작시각 행사종료시각\n",
       "0  2018-11-02  2018-11-02  14:00  21:00\n",
       "1  2018-11-07  2018-11-07  11:00  21:00\n",
       "2  2018-11-08  2018-11-08  11:00  21:00\n",
       "3  2018-11-16  2018-11-16  14:00  21:00\n",
       "4  2018-11-19  2018-11-19  15:00  21:00"
      ]
     },
     "execution_count": 9,
     "metadata": {},
     "output_type": "execute_result"
    }
   ],
   "source": [
    "# 일정 관련 컬럼 상위 5개 행 확인\n",
    "event_df[['행사시작일자', '행사종료일자', '행사시작시각', '행사종료시각']].head()"
   ]
  },
  {
   "cell_type": "markdown",
   "metadata": {},
   "source": [
    "관람 요금 정보가 포함된 `요금정보`, `관람요금` 열도 있습니다."
   ]
  },
  {
   "cell_type": "code",
   "execution_count": 10,
   "metadata": {},
   "outputs": [
    {
     "data": {
      "text/html": [
       "<div>\n",
       "<style scoped>\n",
       "    .dataframe tbody tr th:only-of-type {\n",
       "        vertical-align: middle;\n",
       "    }\n",
       "\n",
       "    .dataframe tbody tr th {\n",
       "        vertical-align: top;\n",
       "    }\n",
       "\n",
       "    .dataframe thead th {\n",
       "        text-align: right;\n",
       "    }\n",
       "</style>\n",
       "<table border=\"1\" class=\"dataframe\">\n",
       "  <thead>\n",
       "    <tr style=\"text-align: right;\">\n",
       "      <th></th>\n",
       "      <th>요금정보</th>\n",
       "      <th>관람요금</th>\n",
       "    </tr>\n",
       "  </thead>\n",
       "  <tbody>\n",
       "    <tr>\n",
       "      <th>0</th>\n",
       "      <td>유료</td>\n",
       "      <td>5000</td>\n",
       "    </tr>\n",
       "    <tr>\n",
       "      <th>1</th>\n",
       "      <td>유료</td>\n",
       "      <td>1000</td>\n",
       "    </tr>\n",
       "    <tr>\n",
       "      <th>2</th>\n",
       "      <td>유료</td>\n",
       "      <td>1000</td>\n",
       "    </tr>\n",
       "    <tr>\n",
       "      <th>3</th>\n",
       "      <td>무료</td>\n",
       "      <td>NaN</td>\n",
       "    </tr>\n",
       "    <tr>\n",
       "      <th>4</th>\n",
       "      <td>무료</td>\n",
       "      <td>NaN</td>\n",
       "    </tr>\n",
       "  </tbody>\n",
       "</table>\n",
       "</div>"
      ],
      "text/plain": [
       "  요금정보  관람요금\n",
       "0   유료  5000\n",
       "1   유료  1000\n",
       "2   유료  1000\n",
       "3   무료   NaN\n",
       "4   무료   NaN"
      ]
     },
     "execution_count": 10,
     "metadata": {},
     "output_type": "execute_result"
    }
   ],
   "source": [
    "# 관람 요금 관련 컬럼 상위 5개 행 확인\n",
    "event_df[['요금정보', '관람요금']].head()"
   ]
  },
  {
   "cell_type": "markdown",
   "metadata": {},
   "source": [
    "`객석수` 열에는 행사장에 마련된 객석 수가 숫자 형태로 담겨 있습니다."
   ]
  },
  {
   "cell_type": "code",
   "execution_count": 11,
   "metadata": {},
   "outputs": [
    {
     "data": {
      "text/plain": [
       "0    1404.0\n",
       "1     352.0\n",
       "2     526.0\n",
       "3     727.0\n",
       "4     400.0\n",
       "Name: 객석수, dtype: float64"
      ]
     },
     "execution_count": 11,
     "metadata": {},
     "output_type": "execute_result"
    }
   ],
   "source": [
    "# 객석 수 상위 5개 행 확인\n",
    "event_df['객석수'].head()"
   ]
  },
  {
   "cell_type": "markdown",
   "metadata": {},
   "source": [
    "`입장연령` 열도 살펴볼까요?"
   ]
  },
  {
   "cell_type": "code",
   "execution_count": 14,
   "metadata": {},
   "outputs": [
    {
     "data": {
      "text/plain": [
       "입장연령\n",
       "초등학생 이상             339\n",
       "8세 이상               318\n",
       "전체관람가               299\n",
       "제한없음                286\n",
       "초등학생이상              266\n",
       "                   ... \n",
       "전체 연령                 1\n",
       "12세 이상관람가             1\n",
       "중등학생 이상               1\n",
       "12개월이상                1\n",
       "2021년생 포함 이전 출생자      1\n",
       "Name: count, Length: 277, dtype: int64"
      ]
     },
     "execution_count": 14,
     "metadata": {},
     "output_type": "execute_result"
    }
   ],
   "source": [
    "# 입장 연령 상위 5개 행 확인\n",
    "event_df['입장연령'].value_counts()"
   ]
  },
  {
   "cell_type": "markdown",
   "metadata": {},
   "source": [
    "`입장연령` 열에 담긴 텍스트는 '초등학생 이상'과 '초등학생이상'이 구분되어 있는 등 아직 정제되지 않은 상태로 저장되어 있습니다.     \n",
    "앞으로 데이터를 분석하기 전에는 같은 유형의 연령이 그룹화될 수 있도록 정제하는 과정을 거치면 좋곘네요.     \n",
    "예) '12세관람가', '만 12세 이상' → '초등학생'"
   ]
  },
  {
   "cell_type": "markdown",
   "metadata": {},
   "source": [
    "지금까지 '공연 행사' 데이터를 살펴보았습니다.    \n",
    "이번에는 '문화 축제' 데이터를 확인해 볼까요?"
   ]
  },
  {
   "cell_type": "code",
   "execution_count": 15,
   "metadata": {},
   "outputs": [
    {
     "name": "stdout",
     "output_type": "stream",
     "text": [
      "<class 'pandas.core.frame.DataFrame'>\n",
      "RangeIndex: 1279 entries, 0 to 1278\n",
      "Data columns (total 18 columns):\n",
      " #   Column    Non-Null Count  Dtype  \n",
      "---  ------    --------------  -----  \n",
      " 0   축제명       1279 non-null   object \n",
      " 1   개최장소      1279 non-null   object \n",
      " 2   축제시작일자    1279 non-null   object \n",
      " 3   축제종료일자    1279 non-null   object \n",
      " 4   축제내용      1279 non-null   object \n",
      " 5   주관기관명     1279 non-null   object \n",
      " 6   주최기관명     1279 non-null   object \n",
      " 7   후원기관명     551 non-null    object \n",
      " 8   전화번호      1182 non-null   object \n",
      " 9   홈페이지주소    817 non-null    object \n",
      " 10  관련정보      156 non-null    object \n",
      " 11  소재지도로명주소  1047 non-null   object \n",
      " 12  소재지지번주소   999 non-null    object \n",
      " 13  위도        1000 non-null   float64\n",
      " 14  경도        1000 non-null   float64\n",
      " 15  데이터기준일자   1279 non-null   object \n",
      " 16  제공기관코드    1279 non-null   object \n",
      " 17  제공기관명     1279 non-null   object \n",
      "dtypes: float64(2), object(16)\n",
      "memory usage: 180.0+ KB\n"
     ]
    }
   ],
   "source": [
    "# 문화 축제 데이터 불러오기\n",
    "festival_df = pd.read_csv('data/전국문화축제표준데이터.csv', encoding='cp949')\n",
    "\n",
    "# 컬럼 정보 출력\n",
    "festival_df.info()"
   ]
  },
  {
   "cell_type": "markdown",
   "metadata": {},
   "source": [
    "'공연 행사' 데이터와 유사하게, '문화 축제' 데이터에도 축제명과 내용, 일정, 위치 정보 등이 담겨있네요.     \n",
    "분석에 사용할 주요 컬럼들을 살펴봅시다."
   ]
  },
  {
   "cell_type": "markdown",
   "metadata": {},
   "source": [
    "`축제명`, `축제내용` 열을 확인해 볼까요?"
   ]
  },
  {
   "cell_type": "code",
   "execution_count": 16,
   "metadata": {},
   "outputs": [
    {
     "data": {
      "text/html": [
       "<div>\n",
       "<style scoped>\n",
       "    .dataframe tbody tr th:only-of-type {\n",
       "        vertical-align: middle;\n",
       "    }\n",
       "\n",
       "    .dataframe tbody tr th {\n",
       "        vertical-align: top;\n",
       "    }\n",
       "\n",
       "    .dataframe thead th {\n",
       "        text-align: right;\n",
       "    }\n",
       "</style>\n",
       "<table border=\"1\" class=\"dataframe\">\n",
       "  <thead>\n",
       "    <tr style=\"text-align: right;\">\n",
       "      <th></th>\n",
       "      <th>축제명</th>\n",
       "      <th>축제내용</th>\n",
       "    </tr>\n",
       "  </thead>\n",
       "  <tbody>\n",
       "    <tr>\n",
       "      <th>0</th>\n",
       "      <td>반포서래 한불음악축제</td>\n",
       "      <td>체험부스+먹거리+지역주민 및 초청가수 공연</td>\n",
       "    </tr>\n",
       "    <tr>\n",
       "      <th>1</th>\n",
       "      <td>2024 행복광진 힐링축제</td>\n",
       "      <td>초대가수 축하 공연, 지역가수 축하 공연</td>\n",
       "    </tr>\n",
       "    <tr>\n",
       "      <th>2</th>\n",
       "      <td>광진가족 클래식 음악산책 지브리 콘서트</td>\n",
       "      <td>스튜디오 지브리 미야자키 하야오의 애니메이션 OST연주</td>\n",
       "    </tr>\n",
       "    <tr>\n",
       "      <th>3</th>\n",
       "      <td>2024 청춘대로</td>\n",
       "      <td>청년페스티벌 축하 공연 등 다양한 청년참여 프로그램 운영</td>\n",
       "    </tr>\n",
       "    <tr>\n",
       "      <th>4</th>\n",
       "      <td>2024 피크닉인나루</td>\n",
       "      <td>전세대 공감 친환경 콘서트</td>\n",
       "    </tr>\n",
       "  </tbody>\n",
       "</table>\n",
       "</div>"
      ],
      "text/plain": [
       "                     축제명                             축제내용\n",
       "0            반포서래 한불음악축제          체험부스+먹거리+지역주민 및 초청가수 공연\n",
       "1         2024 행복광진 힐링축제           초대가수 축하 공연, 지역가수 축하 공연\n",
       "2  광진가족 클래식 음악산책 지브리 콘서트   스튜디오 지브리 미야자키 하야오의 애니메이션 OST연주\n",
       "3              2024 청춘대로  청년페스티벌 축하 공연 등 다양한 청년참여 프로그램 운영\n",
       "4            2024 피크닉인나루                   전세대 공감 친환경 콘서트"
      ]
     },
     "execution_count": 16,
     "metadata": {},
     "output_type": "execute_result"
    }
   ],
   "source": [
    "# 축제명 상위 5개 행 확인\n",
    "festival_df[['축제명', '축제내용']].head()"
   ]
  },
  {
   "cell_type": "markdown",
   "metadata": {},
   "source": [
    "`개최장소`, `소재지도로명주소`, `제공기관명`에는 지역 및 주소 관련 정보가 있습니다."
   ]
  },
  {
   "cell_type": "code",
   "execution_count": 17,
   "metadata": {},
   "outputs": [
    {
     "data": {
      "text/html": [
       "<div>\n",
       "<style scoped>\n",
       "    .dataframe tbody tr th:only-of-type {\n",
       "        vertical-align: middle;\n",
       "    }\n",
       "\n",
       "    .dataframe tbody tr th {\n",
       "        vertical-align: top;\n",
       "    }\n",
       "\n",
       "    .dataframe thead th {\n",
       "        text-align: right;\n",
       "    }\n",
       "</style>\n",
       "<table border=\"1\" class=\"dataframe\">\n",
       "  <thead>\n",
       "    <tr style=\"text-align: right;\">\n",
       "      <th></th>\n",
       "      <th>개최장소</th>\n",
       "      <th>소재지도로명주소</th>\n",
       "      <th>제공기관명</th>\n",
       "    </tr>\n",
       "  </thead>\n",
       "  <tbody>\n",
       "    <tr>\n",
       "      <th>0</th>\n",
       "      <td>조달청 주차장</td>\n",
       "      <td>서울특별시 서초구 반포대로 217</td>\n",
       "      <td>서울특별시 서초구</td>\n",
       "    </tr>\n",
       "    <tr>\n",
       "      <th>1</th>\n",
       "      <td>중곡역 소공원 일대</td>\n",
       "      <td>서울특별시 광진구 능동로 400</td>\n",
       "      <td>서울특별시 광진구</td>\n",
       "    </tr>\n",
       "    <tr>\n",
       "      <th>2</th>\n",
       "      <td>건국대 새천년관 대공연장</td>\n",
       "      <td>서울특별시 광진구 능동로 120</td>\n",
       "      <td>서울특별시 광진구</td>\n",
       "    </tr>\n",
       "    <tr>\n",
       "      <th>3</th>\n",
       "      <td>능동로 분수광장, 숲속의 무대 등 능동로 일대</td>\n",
       "      <td>서울특별시 광진구 능동로 216</td>\n",
       "      <td>서울특별시 광진구</td>\n",
       "    </tr>\n",
       "    <tr>\n",
       "      <th>4</th>\n",
       "      <td>어린이대공원 숲속의무대</td>\n",
       "      <td>서울특별시 광진구 능동로 216</td>\n",
       "      <td>서울특별시 광진구</td>\n",
       "    </tr>\n",
       "  </tbody>\n",
       "</table>\n",
       "</div>"
      ],
      "text/plain": [
       "                        개최장소            소재지도로명주소      제공기관명\n",
       "0                    조달청 주차장  서울특별시 서초구 반포대로 217  서울특별시 서초구\n",
       "1                 중곡역 소공원 일대   서울특별시 광진구 능동로 400  서울특별시 광진구\n",
       "2              건국대 새천년관 대공연장   서울특별시 광진구 능동로 120  서울특별시 광진구\n",
       "3  능동로 분수광장, 숲속의 무대 등 능동로 일대   서울특별시 광진구 능동로 216  서울특별시 광진구\n",
       "4               어린이대공원 숲속의무대   서울특별시 광진구 능동로 216  서울특별시 광진구"
      ]
     },
     "execution_count": 17,
     "metadata": {},
     "output_type": "execute_result"
    }
   ],
   "source": [
    "# 지역 관련 컬럼 상위 5개 행 확인\n",
    "festival_df[['개최장소', '소재지도로명주소', '제공기관명']].head()"
   ]
  },
  {
   "cell_type": "markdown",
   "metadata": {},
   "source": [
    "마지막으로 `축제시작일자`, `축제종료일자`를 통해 축제 일정을 확인할 수 있습니다. "
   ]
  },
  {
   "cell_type": "code",
   "execution_count": 18,
   "metadata": {},
   "outputs": [
    {
     "data": {
      "text/html": [
       "<div>\n",
       "<style scoped>\n",
       "    .dataframe tbody tr th:only-of-type {\n",
       "        vertical-align: middle;\n",
       "    }\n",
       "\n",
       "    .dataframe tbody tr th {\n",
       "        vertical-align: top;\n",
       "    }\n",
       "\n",
       "    .dataframe thead th {\n",
       "        text-align: right;\n",
       "    }\n",
       "</style>\n",
       "<table border=\"1\" class=\"dataframe\">\n",
       "  <thead>\n",
       "    <tr style=\"text-align: right;\">\n",
       "      <th></th>\n",
       "      <th>축제시작일자</th>\n",
       "      <th>축제종료일자</th>\n",
       "    </tr>\n",
       "  </thead>\n",
       "  <tbody>\n",
       "    <tr>\n",
       "      <th>0</th>\n",
       "      <td>2024-06-15</td>\n",
       "      <td>2024-06-15</td>\n",
       "    </tr>\n",
       "    <tr>\n",
       "      <th>1</th>\n",
       "      <td>2024-09-07</td>\n",
       "      <td>2024-09-07</td>\n",
       "    </tr>\n",
       "    <tr>\n",
       "      <th>2</th>\n",
       "      <td>2024-09-10</td>\n",
       "      <td>2024-09-10</td>\n",
       "    </tr>\n",
       "    <tr>\n",
       "      <th>3</th>\n",
       "      <td>2024-09-26</td>\n",
       "      <td>2024-09-28</td>\n",
       "    </tr>\n",
       "    <tr>\n",
       "      <th>4</th>\n",
       "      <td>2024-10-05</td>\n",
       "      <td>2024-10-05</td>\n",
       "    </tr>\n",
       "  </tbody>\n",
       "</table>\n",
       "</div>"
      ],
      "text/plain": [
       "       축제시작일자      축제종료일자\n",
       "0  2024-06-15  2024-06-15\n",
       "1  2024-09-07  2024-09-07\n",
       "2  2024-09-10  2024-09-10\n",
       "3  2024-09-26  2024-09-28\n",
       "4  2024-10-05  2024-10-05"
      ]
     },
     "execution_count": 18,
     "metadata": {},
     "output_type": "execute_result"
    }
   ],
   "source": [
    "# 일정 관련 컬럼 상위 5개 행 확인\n",
    "festival_df[['축제시작일자', '축제종료일자']].head()"
   ]
  },
  {
   "cell_type": "markdown",
   "metadata": {},
   "source": [
    "이렇게 공연 행사 및 문화 축제 데이터를 모두 살펴보았습니다.     \n",
    "그럼 잘 이해했는지 간단히 점검해 봅시다! 행사 데이터에서 아래의 행을 어떻게 해석할 수 있을까요?"
   ]
  },
  {
   "cell_type": "code",
   "execution_count": 19,
   "metadata": {},
   "outputs": [
    {
     "data": {
      "text/plain": [
       "행사명        제7회 피아노 위크\n",
       "행사내용      전문 피아노 페스티벌\n",
       "장소         달서아트센터 와룡홀\n",
       "행사시작일자     2024-05-22\n",
       "행사종료일자     2024-05-25\n",
       "입장연령          8세이상관람가\n",
       "관람요금            10000\n",
       "Name: 1000, dtype: object"
      ]
     },
     "execution_count": 19,
     "metadata": {},
     "output_type": "execute_result"
    }
   ],
   "source": [
    "# 특정 행 출력\n",
    "event_df.loc[1000, ['행사명', '행사내용', '장소', '행사시작일자', '행사종료일자', '입장연령', '관람요금']]"
   ]
  },
  {
   "cell_type": "markdown",
   "metadata": {},
   "source": [
    ">'제7회 피아노 위크'는 달서아트센터 와룡홀에서 24년 5월 22일부터 25일까지 진행되며, 8세 이상부터 관람 가능하고 관람 요금은 10,000원이다."
   ]
  },
  {
   "cell_type": "markdown",
   "metadata": {},
   "source": [
    "다음 섹션에서는 위에서 살펴본 내용에 기반하여 데이터를 분석에 용이하도록 직접 정제해 보도록 하겠습니다."
   ]
  },
  {
   "cell_type": "markdown",
   "metadata": {},
   "source": [
    "---"
   ]
  },
  {
   "cell_type": "markdown",
   "metadata": {},
   "source": [
    "## 2. 데이터 정제하기"
   ]
  },
  {
   "cell_type": "markdown",
   "metadata": {},
   "source": [
    "### 2.1. 일정 관련 정보를 `datatime` 타입으로 변환하기"
   ]
  },
  {
   "cell_type": "markdown",
   "metadata": {},
   "source": [
    "`event_df`와 `festival_df`의 일정 관련 컬럼은 '2018-11-02', '14:00' 형태의 문자열로 저장되어 있습니다.    \n",
    "날짜와 시간을 다루기 편리한 형태로 만들기 위해 `datetime` 타입으로 변환해 봅시다.\n",
    "\n",
    ">📌 `pandas.to_datetime()`은 문자열 형태의 날짜 데이터를 `datetime` 형식으로 변환하여, 날짜 계산이나 시계열 분석이 가능하도록 만듭니다.\n",
    " "
   ]
  },
  {
   "cell_type": "markdown",
   "metadata": {},
   "source": [
    "먼저 `event_df` 부터 작업해 볼까요?      \n",
    "변환할 컬럼은 다음과 같습니다."
   ]
  },
  {
   "cell_type": "code",
   "execution_count": 20,
   "metadata": {},
   "outputs": [
    {
     "data": {
      "text/html": [
       "<div>\n",
       "<style scoped>\n",
       "    .dataframe tbody tr th:only-of-type {\n",
       "        vertical-align: middle;\n",
       "    }\n",
       "\n",
       "    .dataframe tbody tr th {\n",
       "        vertical-align: top;\n",
       "    }\n",
       "\n",
       "    .dataframe thead th {\n",
       "        text-align: right;\n",
       "    }\n",
       "</style>\n",
       "<table border=\"1\" class=\"dataframe\">\n",
       "  <thead>\n",
       "    <tr style=\"text-align: right;\">\n",
       "      <th></th>\n",
       "      <th>행사시작일자</th>\n",
       "      <th>행사종료일자</th>\n",
       "      <th>행사시작시각</th>\n",
       "      <th>행사종료시각</th>\n",
       "    </tr>\n",
       "  </thead>\n",
       "  <tbody>\n",
       "    <tr>\n",
       "      <th>0</th>\n",
       "      <td>2018-11-02</td>\n",
       "      <td>2018-11-02</td>\n",
       "      <td>14:00</td>\n",
       "      <td>21:00</td>\n",
       "    </tr>\n",
       "    <tr>\n",
       "      <th>1</th>\n",
       "      <td>2018-11-07</td>\n",
       "      <td>2018-11-07</td>\n",
       "      <td>11:00</td>\n",
       "      <td>21:00</td>\n",
       "    </tr>\n",
       "    <tr>\n",
       "      <th>2</th>\n",
       "      <td>2018-11-08</td>\n",
       "      <td>2018-11-08</td>\n",
       "      <td>11:00</td>\n",
       "      <td>21:00</td>\n",
       "    </tr>\n",
       "    <tr>\n",
       "      <th>3</th>\n",
       "      <td>2018-11-16</td>\n",
       "      <td>2018-11-16</td>\n",
       "      <td>14:00</td>\n",
       "      <td>21:00</td>\n",
       "    </tr>\n",
       "    <tr>\n",
       "      <th>4</th>\n",
       "      <td>2018-11-19</td>\n",
       "      <td>2018-11-19</td>\n",
       "      <td>15:00</td>\n",
       "      <td>21:00</td>\n",
       "    </tr>\n",
       "  </tbody>\n",
       "</table>\n",
       "</div>"
      ],
      "text/plain": [
       "       행사시작일자      행사종료일자 행사시작시각 행사종료시각\n",
       "0  2018-11-02  2018-11-02  14:00  21:00\n",
       "1  2018-11-07  2018-11-07  11:00  21:00\n",
       "2  2018-11-08  2018-11-08  11:00  21:00\n",
       "3  2018-11-16  2018-11-16  14:00  21:00\n",
       "4  2018-11-19  2018-11-19  15:00  21:00"
      ]
     },
     "execution_count": 20,
     "metadata": {},
     "output_type": "execute_result"
    }
   ],
   "source": [
    "# 일정 관련 컬럼 상위 5개 행 확인\n",
    "event_df[['행사시작일자', '행사종료일자', '행사시작시각', '행사종료시각']].head()"
   ]
  },
  {
   "cell_type": "markdown",
   "metadata": {},
   "source": [
    "`행사시작일자`와 `행사시작시각`을 하나로 합쳐서 `행사시작일시`라는 새로운 컬럼을 만드는 것이 좋겠네요.      \n",
    "예) '2018-11-02'(`string`) + '14:00'(`string`) → '2018-11-02 14:00:00'(`datetime`)"
   ]
  },
  {
   "cell_type": "code",
   "execution_count": 21,
   "metadata": {},
   "outputs": [
    {
     "data": {
      "text/html": [
       "<div>\n",
       "<style scoped>\n",
       "    .dataframe tbody tr th:only-of-type {\n",
       "        vertical-align: middle;\n",
       "    }\n",
       "\n",
       "    .dataframe tbody tr th {\n",
       "        vertical-align: top;\n",
       "    }\n",
       "\n",
       "    .dataframe thead th {\n",
       "        text-align: right;\n",
       "    }\n",
       "</style>\n",
       "<table border=\"1\" class=\"dataframe\">\n",
       "  <thead>\n",
       "    <tr style=\"text-align: right;\">\n",
       "      <th></th>\n",
       "      <th>행사시작일시</th>\n",
       "      <th>행사종료일시</th>\n",
       "    </tr>\n",
       "  </thead>\n",
       "  <tbody>\n",
       "    <tr>\n",
       "      <th>0</th>\n",
       "      <td>2018-11-02 14:00:00</td>\n",
       "      <td>2018-11-02 21:00:00</td>\n",
       "    </tr>\n",
       "    <tr>\n",
       "      <th>1</th>\n",
       "      <td>2018-11-07 11:00:00</td>\n",
       "      <td>2018-11-07 21:00:00</td>\n",
       "    </tr>\n",
       "    <tr>\n",
       "      <th>2</th>\n",
       "      <td>2018-11-08 11:00:00</td>\n",
       "      <td>2018-11-08 21:00:00</td>\n",
       "    </tr>\n",
       "    <tr>\n",
       "      <th>3</th>\n",
       "      <td>2018-11-16 14:00:00</td>\n",
       "      <td>2018-11-16 21:00:00</td>\n",
       "    </tr>\n",
       "    <tr>\n",
       "      <th>4</th>\n",
       "      <td>2018-11-19 15:00:00</td>\n",
       "      <td>2018-11-19 21:00:00</td>\n",
       "    </tr>\n",
       "    <tr>\n",
       "      <th>...</th>\n",
       "      <td>...</td>\n",
       "      <td>...</td>\n",
       "    </tr>\n",
       "    <tr>\n",
       "      <th>7612</th>\n",
       "      <td>2024-08-10 15:00:00</td>\n",
       "      <td>2024-08-10 16:00:00</td>\n",
       "    </tr>\n",
       "    <tr>\n",
       "      <th>7613</th>\n",
       "      <td>2024-08-17 15:00:00</td>\n",
       "      <td>2024-08-17 16:00:00</td>\n",
       "    </tr>\n",
       "    <tr>\n",
       "      <th>7614</th>\n",
       "      <td>2024-08-24 15:00:00</td>\n",
       "      <td>2024-08-24 16:00:00</td>\n",
       "    </tr>\n",
       "    <tr>\n",
       "      <th>7615</th>\n",
       "      <td>2024-09-21 15:00:00</td>\n",
       "      <td>2024-09-21 16:00:00</td>\n",
       "    </tr>\n",
       "    <tr>\n",
       "      <th>7616</th>\n",
       "      <td>2024-09-28 15:00:00</td>\n",
       "      <td>2024-09-28 16:00:00</td>\n",
       "    </tr>\n",
       "  </tbody>\n",
       "</table>\n",
       "<p>7614 rows × 2 columns</p>\n",
       "</div>"
      ],
      "text/plain": [
       "                  행사시작일시              행사종료일시\n",
       "0    2018-11-02 14:00:00 2018-11-02 21:00:00\n",
       "1    2018-11-07 11:00:00 2018-11-07 21:00:00\n",
       "2    2018-11-08 11:00:00 2018-11-08 21:00:00\n",
       "3    2018-11-16 14:00:00 2018-11-16 21:00:00\n",
       "4    2018-11-19 15:00:00 2018-11-19 21:00:00\n",
       "...                  ...                 ...\n",
       "7612 2024-08-10 15:00:00 2024-08-10 16:00:00\n",
       "7613 2024-08-17 15:00:00 2024-08-17 16:00:00\n",
       "7614 2024-08-24 15:00:00 2024-08-24 16:00:00\n",
       "7615 2024-09-21 15:00:00 2024-09-21 16:00:00\n",
       "7616 2024-09-28 15:00:00 2024-09-28 16:00:00\n",
       "\n",
       "[7614 rows x 2 columns]"
      ]
     },
     "execution_count": 21,
     "metadata": {},
     "output_type": "execute_result"
    }
   ],
   "source": [
    "# 결측값 및 이상치 처리\n",
    "event_df = event_df.dropna(subset=['행사시작일자', '행사종료일자', '행사시작시각', '행사종료시각'])\n",
    "event_df['행사시작시각'] = event_df['행사시작시각'].str.replace(r'[^\\d:]', '', regex=True)\n",
    "\n",
    "# 행사시작일자와 시작시각, 행사종료일자와 종료시각을 각각 합쳐서 새로운 컬럼 생성\n",
    "event_df['행사시작일시'] = pd.to_datetime(event_df['행사시작일자'] + ' ' + event_df['행사시작시각'])\n",
    "event_df['행사종료일시'] = pd.to_datetime(event_df['행사종료일자'] + ' ' + event_df['행사종료시각'])\n",
    "\n",
    "event_df[['행사시작일시', '행사종료일시']]"
   ]
  },
  {
   "cell_type": "markdown",
   "metadata": {},
   "source": [
    "이제 `행사시작일시`, `행사종료일시`라는 새로운 컬럼에 `datetime` 정보가 저장되었습니다.     \n",
    "나머지 `festival_df`도 마찬가지로 일정 정보를 `datetime` 타입으로 변환하겠습니다."
   ]
  },
  {
   "cell_type": "code",
   "execution_count": 22,
   "metadata": {},
   "outputs": [
    {
     "data": {
      "text/html": [
       "<div>\n",
       "<style scoped>\n",
       "    .dataframe tbody tr th:only-of-type {\n",
       "        vertical-align: middle;\n",
       "    }\n",
       "\n",
       "    .dataframe tbody tr th {\n",
       "        vertical-align: top;\n",
       "    }\n",
       "\n",
       "    .dataframe thead th {\n",
       "        text-align: right;\n",
       "    }\n",
       "</style>\n",
       "<table border=\"1\" class=\"dataframe\">\n",
       "  <thead>\n",
       "    <tr style=\"text-align: right;\">\n",
       "      <th></th>\n",
       "      <th>축제시작일자</th>\n",
       "      <th>축제종료일자</th>\n",
       "    </tr>\n",
       "  </thead>\n",
       "  <tbody>\n",
       "    <tr>\n",
       "      <th>0</th>\n",
       "      <td>2024-06-15</td>\n",
       "      <td>2024-06-15</td>\n",
       "    </tr>\n",
       "    <tr>\n",
       "      <th>1</th>\n",
       "      <td>2024-09-07</td>\n",
       "      <td>2024-09-07</td>\n",
       "    </tr>\n",
       "    <tr>\n",
       "      <th>2</th>\n",
       "      <td>2024-09-10</td>\n",
       "      <td>2024-09-10</td>\n",
       "    </tr>\n",
       "    <tr>\n",
       "      <th>3</th>\n",
       "      <td>2024-09-26</td>\n",
       "      <td>2024-09-28</td>\n",
       "    </tr>\n",
       "    <tr>\n",
       "      <th>4</th>\n",
       "      <td>2024-10-05</td>\n",
       "      <td>2024-10-05</td>\n",
       "    </tr>\n",
       "    <tr>\n",
       "      <th>...</th>\n",
       "      <td>...</td>\n",
       "      <td>...</td>\n",
       "    </tr>\n",
       "    <tr>\n",
       "      <th>1274</th>\n",
       "      <td>2025-03-29</td>\n",
       "      <td>2025-04-01</td>\n",
       "    </tr>\n",
       "    <tr>\n",
       "      <th>1275</th>\n",
       "      <td>2024-10-03</td>\n",
       "      <td>2024-10-06</td>\n",
       "    </tr>\n",
       "    <tr>\n",
       "      <th>1276</th>\n",
       "      <td>2025-03-28</td>\n",
       "      <td>2025-03-30</td>\n",
       "    </tr>\n",
       "    <tr>\n",
       "      <th>1277</th>\n",
       "      <td>2024-11-09</td>\n",
       "      <td>2024-11-10</td>\n",
       "    </tr>\n",
       "    <tr>\n",
       "      <th>1278</th>\n",
       "      <td>2024-11-02</td>\n",
       "      <td>2024-11-03</td>\n",
       "    </tr>\n",
       "  </tbody>\n",
       "</table>\n",
       "<p>1279 rows × 2 columns</p>\n",
       "</div>"
      ],
      "text/plain": [
       "         축제시작일자     축제종료일자\n",
       "0    2024-06-15 2024-06-15\n",
       "1    2024-09-07 2024-09-07\n",
       "2    2024-09-10 2024-09-10\n",
       "3    2024-09-26 2024-09-28\n",
       "4    2024-10-05 2024-10-05\n",
       "...         ...        ...\n",
       "1274 2025-03-29 2025-04-01\n",
       "1275 2024-10-03 2024-10-06\n",
       "1276 2025-03-28 2025-03-30\n",
       "1277 2024-11-09 2024-11-10\n",
       "1278 2024-11-02 2024-11-03\n",
       "\n",
       "[1279 rows x 2 columns]"
      ]
     },
     "execution_count": 22,
     "metadata": {},
     "output_type": "execute_result"
    }
   ],
   "source": [
    "# 축제 시작일자와 종료일자 컬럼을 datetime 형식으로 변환\n",
    "festival_df['축제시작일자'] = pd.to_datetime(festival_df['축제시작일자'])\n",
    "festival_df['축제종료일자'] = pd.to_datetime(festival_df['축제종료일자'])\n",
    "\n",
    "festival_df[['축제시작일자', '축제종료일자']]"
   ]
  },
  {
   "cell_type": "markdown",
   "metadata": {},
   "source": [
    "---"
   ]
  },
  {
   "cell_type": "markdown",
   "metadata": {},
   "source": [
    "### 2.2. 입장 연령 분류하기"
   ]
  },
  {
   "cell_type": "markdown",
   "metadata": {},
   "source": [
    "`event_df`의 입장 연령 정보는 '초등생이상관람가', '초등 이상', '초등학생 이상 관람', '초등 1~2학년' 등과 같이 분류가 정형화되지 않은 상태입니다.     \n",
    "`입장연령` 컬럼의 고유값들을 살펴볼까요?\n"
   ]
  },
  {
   "cell_type": "code",
   "execution_count": 23,
   "metadata": {},
   "outputs": [
    {
     "data": {
      "text/plain": [
       "array(['7세이상', '48개월이상', '전체관람가', '초등생이상관람가', '전연령관람가', '36개월이상관람가',\n",
       "       '8세이상', '14세이상', '13세이상', '5세이상', '24개월이상관람가', nan,\n",
       "       '2021년생 포함 이전 출생자', '14세 이상', '만 48개월 이상', '초등 이상', '48개월이상관람가',\n",
       "       '전체관람', '중학생 이상', '중학생이상관람', '36개월 이상', '전연령', '7세이상관람가',\n",
       "       '18세이상관람가', '13세이상관람가', '8세이상관람가', '만7세이상 관람가능', '전체관람 가능',\n",
       "       '만8세이상 관람가능', '만13세이상관람가', '만6세이상 관람가능', '만2세이상 관람가능', '5세 이상',\n",
       "       '만7세이상', '5세 이상 관람 가능', '8세 이상 관람 가능', '중학생 이상 관람 가능', '만13세 이상',\n",
       "       '초등학생이상', '초등학생 이상', '제한 없음', '전체', '2022년생 포함 이전 출생자',\n",
       "       '만36개월 이상 관람가', '2023년생 포함 이전 출생자', '누구나', '24개월 이상', '만 8세 이상',\n",
       "       '8세 이상', '만5세이상 관람가능', '10세 이상 관람가능', '8세 이상 관람가능', '7세 이상 관람 가능',\n",
       "       '15세 이상', '7세 이상', '전 연령', '6세 이상', '12세 이상', '18세 이상', '초중학생',\n",
       "       '중고교생', '6세이상', '전체연령', '15세이상관람가', '만 7세 이상', '제한없음', '성인',\n",
       "       '초등 1~4학년', '아동, 성인', '초등저학년', '60세 이상', '지역아동센터아동', '만 13세 이상',\n",
       "       '36개월 이상 관람가', '만 36개월 이상 관람가', '만 5세 이상', '만 15세 이상', '만15세이상',\n",
       "       '초등학생', '초등 1~2학년', '6~7세 유아', '초등 1~3학년', '5세이상관람가', '4세이상관람가',\n",
       "       '14세이상관람가', '6세이상관람가', '초중고생', '초중고교생', '3세 이상 관람 가능',\n",
       "       '초등학교 4,5,6학년', '만 3세 이상', '17세 이상', '만 20개월이상', '만 36개월이상',\n",
       "       '60세 이상 여성', '만 24개월 이상', '만 12세 이상', '초등학생이상관람가능', '24개월이상관람가능',\n",
       "       '중학생이상', '10세 이상', '15세이상', '12세이상', '18세 이상 관람가', '36개월이상 관람 가능',\n",
       "       '공연별 상이', '무관', '40개월 이상', '만5세이상', '24개월이상', '3세이상관람가', '36개월이상',\n",
       "       '24개월 이상 관람 가능', '8세 이상 관람가', '만 7세 이상 관람 가능', '고등학생 이상', '5세 관람가',\n",
       "       '7세 이상 관람가능', '전체 관람가', '14세 이상 관람가능', '12세 이상 관람 가능',\n",
       "       '36개월 이상 관람 가능', '14세 관람가', '초등학생 이상 입장', '12세 관람가', '15세 관람가',\n",
       "       '48개월 이상', '만 13세 이상 관람 가능', '만 3세 이상 관람 가능', '만 12세 이상 관람 가능',\n",
       "       '만 6세 이상 관람가', '성인이상', '중고학생', '미정', '초등학생이상가', '6세이상가',\n",
       "       '초등학생이상 관람가능', '36개월이상 관람가능', '만 7세이상', '만 8세이상', '만 36개월 이상',\n",
       "       '만 13세 이상 관람', '만 5세이상', '고등학생이상', '전시민', '초등학교 5학년',\n",
       "       '초등학생(학부모 동반 입장) 이상', '전체가', '2세이상', '24개월이상가', '전연령대', '4세이상',\n",
       "       '만 1세 이상 관람가', '초등생이상', '3세이상', '36개월 이상 관람가능', '10세이상 관람가',\n",
       "       '15세이상 관람가', '취학아동이상', '미취학아동 입장불가', '임신부 및 18개월 미만 영유아',\n",
       "       '중학생 이상 관람가', '초등학생 이상 관람가', '4세 이상 관람가', '5세 이상 관람가',\n",
       "       '24개월 이상 관람가', '취학아동 이상', '15세 이상 관람가', '만 2세 이상 관람가',\n",
       "       '초등학생 이상 관람가능', '중학생 이상 관람가능', '24개월 이상 관람가능', '7세이상 관람가능',\n",
       "       '6세이상 관람가능', '13세 이상', '11세 이상', '10세이상', '12세 이상 관람가', '만 14세 이상',\n",
       "       '만 7세 이상 관람가', '만 14세 이상 관람가', '만 6세 이상 관람', '20세이상', '만 4세 이상',\n",
       "       '만 4세 이상 관람가', '만 12세 이상 관람 가', '중학생이상 관람가능', '19세 이상 관람가',\n",
       "       '전체관람가능', '4세이상 관람가능', '만7세 이상 관람가', '시민 누구나 관람 가능', '전 연령 관람 가능',\n",
       "       '12세관람가', '15세관람가', '8세관람가', '14세관람가', '14세 이상 관람 가능', '청소년',\n",
       "       '전연령 관람가능', '전 연령 관람가능', '초등학생 이상 관람', '만11세 이상', '만7세 이상',\n",
       "       '08세이상', '14세 이상(중학생 이상)', '5세 이상 입장', '36개월 이상 입장',\n",
       "       '2024년생 포함 이전 출생자', '2025년생 포함 이전 출생자', '16세이상관람가', '만 9세 이상',\n",
       "       '만 10세 이상', '만 6세 이상', '3세 이상', '6세 이상 관람 가능', '15세 이상 관람 가능',\n",
       "       '현대자동차그룹', '전 연령 관람가', '만 19세 이상(시민평가단)', '초등생이상 관람가', '초등학생이상관람가',\n",
       "       '6세 이상 관람가', '14세 이상 관람가', '만4세이상 관람', '17세이상', '전군민', '전연령 관람가',\n",
       "       '전연령 관람가(7세 이상 권장)', '전체 연령', '2세 이상', '24개월 이상 관람', '12세 이상 관람가능',\n",
       "       '15세 이상 관람가능', '중학생이상관람가', '19세이상관람가', '12세이상관람가', '12세 이상관람가',\n",
       "       '만5세이상 관람가', '만4세이상 관람가', '만12세이상 관람가능', '8세 이상(초등학생 이상) 관람가',\n",
       "       '만10세이상 관람가능', '48개월 이상 관람가', '만 10세 이상 관람가', '연령제한없음',\n",
       "       '전체연령 관람가능', '24개월 이상 유료관람가능(24개월 미만 증빙서류 지참시 무료)', '5세 이상 관람가능',\n",
       "       '8세이상 관람가능', '48개월이상 관람가능', '15세이상 관람가능', '24개월이상 관람가능',\n",
       "       '5세이상 관람가능', '비공개녹화', '만1세 이상 관람가능', '3세 이상 관람가능', '1세 이상 관람가',\n",
       "       '만3세이상 관람가능', '6-7세 관람 가능', '24개월부터 유료입장', '20-40대', '만4세이상',\n",
       "       '무관중', '11세 이상 관람가능', '13세 이상 관람가능', '60개월 이상', '아동,청소년', '영유아',\n",
       "       '8세 이상(2018.12.31 이전 출생자)', '모든연령', '중등학생 이상', '직접입력', '12개월이상',\n",
       "       '초등학생 이상(7세)', '청소년 이상(15세)', '13', '8'], dtype=object)"
      ]
     },
     "execution_count": 23,
     "metadata": {},
     "output_type": "execute_result"
    }
   ],
   "source": [
    "# 입장연령 컬럼의 고유값 확인\n",
    "event_df['입장연령'].unique()"
   ]
  },
  {
   "cell_type": "markdown",
   "metadata": {},
   "source": [
    "행사마다 입장 연령 정보가 통일되어 있지 않은데요.      \n",
    "데이터 분석을 위해서는 적절한 분류 조건을 만들어 한정된 '라벨'을 만드는 것이 좋겠습니다.\n",
    "\n",
    "**라벨**:\n",
    "- `영유아`\n",
    "- `아동`\n",
    "- `청소년`\n",
    "- `성인`\n",
    "- `전체`\n",
    "- `기타`\n",
    "\n",
    "예) '초등생이상관람가', '초등 이상', '초등학생 이상 관람', '초등 1~2학년' → '아동'"
   ]
  },
  {
   "cell_type": "markdown",
   "metadata": {},
   "source": [
    "텍스트마다 특정 글자를 포함하는지의 여부로 분류 기준을 세워보겠습니다.    \n",
    "각 라벨로 분류할 조건들을 다음과 같이 지정해 볼까요?\n",
    "\n",
    "**분류 조건 (텍스트 포함 여부)**:\n",
    "- `영유아`: 개월, 1-6세, 유아\n",
    "- `아동`: 7-12세, 초등, 초중, 취학, 아동\n",
    "- `청소년`: 13-18세, 중학, 중등, 중고, 고등, 청소년\n",
    "- `성인`: 19-60세, 성인 등 \n",
    "- `전체`: 전체, 모든 등"
   ]
  },
  {
   "cell_type": "markdown",
   "metadata": {},
   "source": [
    "이제 분류 함수를 만들어 `입장연령` 컬럼에 적용해 보겠습니다. "
   ]
  },
  {
   "cell_type": "code",
   "execution_count": 24,
   "metadata": {},
   "outputs": [
    {
     "data": {
      "text/html": [
       "<div>\n",
       "<style scoped>\n",
       "    .dataframe tbody tr th:only-of-type {\n",
       "        vertical-align: middle;\n",
       "    }\n",
       "\n",
       "    .dataframe tbody tr th {\n",
       "        vertical-align: top;\n",
       "    }\n",
       "\n",
       "    .dataframe thead th {\n",
       "        text-align: right;\n",
       "    }\n",
       "</style>\n",
       "<table border=\"1\" class=\"dataframe\">\n",
       "  <thead>\n",
       "    <tr style=\"text-align: right;\">\n",
       "      <th></th>\n",
       "      <th>입장연령</th>\n",
       "      <th>연령분류</th>\n",
       "    </tr>\n",
       "  </thead>\n",
       "  <tbody>\n",
       "    <tr>\n",
       "      <th>0</th>\n",
       "      <td>7세이상</td>\n",
       "      <td>아동</td>\n",
       "    </tr>\n",
       "    <tr>\n",
       "      <th>1</th>\n",
       "      <td>48개월이상</td>\n",
       "      <td>영유아</td>\n",
       "    </tr>\n",
       "    <tr>\n",
       "      <th>2</th>\n",
       "      <td>48개월이상</td>\n",
       "      <td>영유아</td>\n",
       "    </tr>\n",
       "    <tr>\n",
       "      <th>3</th>\n",
       "      <td>전체관람가</td>\n",
       "      <td>전체</td>\n",
       "    </tr>\n",
       "    <tr>\n",
       "      <th>4</th>\n",
       "      <td>전체관람가</td>\n",
       "      <td>전체</td>\n",
       "    </tr>\n",
       "    <tr>\n",
       "      <th>...</th>\n",
       "      <td>...</td>\n",
       "      <td>...</td>\n",
       "    </tr>\n",
       "    <tr>\n",
       "      <th>7612</th>\n",
       "      <td>전체</td>\n",
       "      <td>전체</td>\n",
       "    </tr>\n",
       "    <tr>\n",
       "      <th>7613</th>\n",
       "      <td>전체</td>\n",
       "      <td>전체</td>\n",
       "    </tr>\n",
       "    <tr>\n",
       "      <th>7614</th>\n",
       "      <td>전체</td>\n",
       "      <td>전체</td>\n",
       "    </tr>\n",
       "    <tr>\n",
       "      <th>7615</th>\n",
       "      <td>전체</td>\n",
       "      <td>전체</td>\n",
       "    </tr>\n",
       "    <tr>\n",
       "      <th>7616</th>\n",
       "      <td>전체</td>\n",
       "      <td>전체</td>\n",
       "    </tr>\n",
       "  </tbody>\n",
       "</table>\n",
       "<p>7614 rows × 2 columns</p>\n",
       "</div>"
      ],
      "text/plain": [
       "        입장연령 연령분류\n",
       "0       7세이상   아동\n",
       "1     48개월이상  영유아\n",
       "2     48개월이상  영유아\n",
       "3      전체관람가   전체\n",
       "4      전체관람가   전체\n",
       "...      ...  ...\n",
       "7612      전체   전체\n",
       "7613      전체   전체\n",
       "7614      전체   전체\n",
       "7615      전체   전체\n",
       "7616      전체   전체\n",
       "\n",
       "[7614 rows x 2 columns]"
      ]
     },
     "execution_count": 24,
     "metadata": {},
     "output_type": "execute_result"
    }
   ],
   "source": [
    "# 입장 연령 분류 함수\n",
    "def classify_age_group(entry):\n",
    "    if pd.isna(entry):\n",
    "        return '기타'\n",
    "    \n",
    "    text = str(entry).strip()\n",
    "    text = re.sub(r'\\s+', '', text)   \n",
    "\n",
    "    # 영유아\n",
    "    if re.search(r'개월|[1-6]세|유아', text):\n",
    "        return '영유아'\n",
    "    \n",
    "    # 아동\n",
    "    if re.search(r'7세|8세|9세|1[0-2]세|초등|초중|취학|아동', text):\n",
    "        return '아동'\n",
    "\n",
    "    # 청소년\n",
    "    if re.search(r'1[3-8]세|중학|중등|중고|고등|청소년', text):\n",
    "        return '청소년'\n",
    "\n",
    "    # 성인\n",
    "    if re.search(r'19세|20세|60세|성인', text):\n",
    "        return '성인'\n",
    "\n",
    "    # 전체\n",
    "    if re.search(r'전|누구나|제한없음|무관|모든', text):\n",
    "        return '전체'\n",
    "\n",
    "    return '기타'\n",
    "\n",
    "# 입장연령 컬럼에 적용\n",
    "event_df['연령분류'] = event_df['입장연령'].apply(classify_age_group)\n",
    "event_df[['입장연령', '연령분류']]"
   ]
  },
  {
   "cell_type": "markdown",
   "metadata": {},
   "source": [
    "새롭게 생성한 `연령분류` 컬럼을 보면 '48개월이상' 등은 '영유아'로, '7세이상' 등은 '아동'으로 분류가 된 것을 확인할 수 있습니다."
   ]
  },
  {
   "cell_type": "markdown",
   "metadata": {},
   "source": [
    "---"
   ]
  },
  {
   "cell_type": "markdown",
   "metadata": {},
   "source": [
    "### 2.3. 관람 요금 정제하기"
   ]
  },
  {
   "cell_type": "markdown",
   "metadata": {},
   "source": [
    "`event_df`의 관람 요금 정보도 입장 연령과 마찬가지로 각 행사마다 형식이 통일되어 있지 않습니다.     \n",
    "`관람요금` 컬럼의 고유값들을 확인해 볼까요? "
   ]
  },
  {
   "cell_type": "code",
   "execution_count": 26,
   "metadata": {},
   "outputs": [
    {
     "data": {
      "text/plain": [
       "array(['5000', '1000', nan, '10000', '15000', 'R석170000원/S석130000원',\n",
       "       '전석 5000원', '전석 10000원', 'VIP석 150000원 /R석130000원/A석90000원',\n",
       "       'R석30000원/S석20000원', '전석 10000', '15000원',\n",
       "       'VIP석 160000원+R석 140000원+S석 110000원+A석 80000원',\n",
       "       '1층 20000원+2층 15000원', 'R석80000원/S석70000원/A석 50000원', '전석 30000원',\n",
       "       'R석80000원/S석50000원', 'R석60000원/S석20000원/A석 30000원', '3000',\n",
       "       '20000', 'R석1만원', 'R석2만원', 'R석3만5천원', '전석2만원', '전석1만원', '전석5천원',\n",
       "       'R석 12000원 / S석 8000원 / A석 5000원', 'R석12000원+S석10000원',\n",
       "       'R석12000원+S석8000원+A석5000원', 'R석10000원+S석7000원+A석5000원',\n",
       "       '전석 5000원+패키지(7회)30000원', 'R석12000원+S석8000원',\n",
       "       'R석12000원+S석10000원+A석8000원', '6000', '5000원', '10000원', '20000원',\n",
       "       '전석 15000원', 'VIP석 100000원+R석 80000원+S석 60000원+A석 30000원',\n",
       "       'R석 50000원+S석 40000원', '화이트석 143000원+민트석 132000원', '무료',\n",
       "       '(R석)50000원+(S석)30000원+(A석)10000원', '전석 20000원',\n",
       "       '전석 15000원+시야불편석 10000원', '1층 20000원+2층 10000원',\n",
       "       '1층 70000원+2층 60000원', 'R 80000+ S 60000+ A 40000', '전석 20000',\n",
       "       'VIP 120000+R 100000+S 80000+A 60000', 'R 40000+S 30000',\n",
       "       'R 30000+ S 20000', 'R석20000원+S석10000원+A석7000원', 'R석2만원+S석1만원',\n",
       "       'R석3만원+S석2만원', 'R석2만5천원+S석1만원', 'R석2만5천원', '1층: 15000원+2층: 11000원',\n",
       "       '8000원', '7000원', '1층: 30000원+2층: 20000원', '1층: 15000원+2층: 10000원',\n",
       "       '1층: 15000원+2층: 13000원', '1층: 13000원+2층: 10000원',\n",
       "       '1층: 10000원+2층: 7000원', '9000원', '1층: 20000원+2층: 15000원', '0',\n",
       "       '전석 3만원', '전석 2만원', 'R석 5만원+S석 4만원', 'R석 4만원+S석 3만원',\n",
       "       'R석 3만원+S석 2만원', '전석20000원', '전석60000원',\n",
       "       'VIP석132000원+R석121000원+S석80000원', 'VIP석66000원+R석55000원',\n",
       "       'R석 7만원+S석 6만원', 'R석 8만8천원+S석 7만7천원', '전석 1만원', 'R석 5만원+S석 3만원',\n",
       "       '전석 1만4천원', 'R석 2만원+S석 1만원', 'R석 7만7천원+S석 6만6천원', 'R석 4만원 +S석 3만원',\n",
       "       'R석 13만원+S석11만원', 'VIP석 30000원+R석20000원+S석10000원+A석8000원',\n",
       "       'R석10000원+S석5000원', 'R석 6만6천원+S석 5만5천원', '전석 2만5천원',\n",
       "       'R석 2만6천원+S석 1만5천원', '30000', 'R석 30000 S석 25000',\n",
       "       '1층 10000원+2층 5·000원', '1층 10000원+2층 5000원', '1층 30000원+2층 20000원',\n",
       "       '1만원', '2만원+1만원', '0원', '1만원+5천원', '143천원+121천원', '5만원',\n",
       "       '13만원+11만원', 'VIP석 20000원+R석12000원+S석8000원+A석5000원',\n",
       "       'VIP석 30000원+R석20000원+S석15000원+A석10000원', '80000~100000',\n",
       "       '10000~20000', '30000~50000', 'R석10000원+S석8000원',\n",
       "       'R석50000원+S석30000원+A석20000원', 'R석 50000+ S석 30000',\n",
       "       'R석 60000+ S석 30000', '전석 30000', 'R석 40000+ S석 30000', '전석 1000원',\n",
       "       'R 50000 + S 40000 + A 30000', '30000원 20000원 10000원',\n",
       "       '20000원 10000원', '77000원 + 55000원 + 33000원',\n",
       "       'R50000 S30000 A10000원', 'R석 30000+ 가족석 10000',\n",
       "       'R석 30000+ 가족석 10001', 'R석 30000+ S석 20000', '전석 1만3천원',\n",
       "       'R석 6만원+S석 5만원', 'R석 3만5천원+S석 2만5천원', 'R석 7만7천원+S석 6만6천원+OP석 6만원',\n",
       "       '120000', '160000', '60000', 'R석 9만9천원+S석 7만7천원',\n",
       "       '성인1000원 + 청소년 500원 등', 'R석 20000원+S석 10000원',\n",
       "       'R석 30000원+S석 20000원', 'R석 50000원+S석 40000원+시야제한석 20000원',\n",
       "       '전석 50000원', 'R석 150000원+S석 100000원+시야제한석 50000원',\n",
       "       '일반 10000원+청소년/어린이 5000원', '일반 5000원+청소년/어린이 3000원',\n",
       "       'R 110000 + S 90000 + A 70000', '35000원', '2000', '4000',\n",
       "       '(R석)120000원+(S석)90000원+(A석)60000원+(B석)40000원', '(R석)3만원+(S석)2만원',\n",
       "       '(어린이)4000원+(어른)2000원', '50000~70000', '70000~90000',\n",
       "       '전석 20000원+성인 무료', 'VIP석 150000원/R석130000원/S석90000원',\n",
       "       'J 143000 / M 132000 / H 121000',\n",
       "       'R 130000 / S 100000 / A 70000/ B 50000', 'R 143000 / S 132000',\n",
       "       'R 50000 / S 40000', '초대', 'R석30000원+S석20000원+A석10000원', '50000',\n",
       "       'S 10000 / A 7000', 'R 154000 / S 143000', 'R 70000 / S 60000',\n",
       "       'R 154000 / S 132000 / A 121000',\n",
       "       'VIP 154000 / R 143000 / S 121000',\n",
       "       'VIP 121000 / R 110000 / S 99000', 'R석 4만원, S석 3만원, A석 2만원',\n",
       "       'R석 4만원, S석 3만원, A석 3만원', 'R석 2만원, S석 1만원', 'R석 3만원, S석 2만원',\n",
       "       '전석5000원', '전석15000원', 'R석20000원+S석10000원',\n",
       "       'R석77000원+S석66000원+A석55000원+B석55000원',\n",
       "       'R석50000원+S석40000원+A석30000원+B석10000원',\n",
       "       'R석66000원+S석55000원+A석44000원',\n",
       "       'R석110000원+S석99000원+A석77000원+B석55000원+C석22000원',\n",
       "       'R석77000원+S석66000원+A석44000원', 'R석30000원+S석20000원', '1000원',\n",
       "       '1층: 5000원+2층: 3000원', 'R석:50000원+S석:30000원', '전석3000원',\n",
       "       'R석25000원+S석15000원', '(R석)30000원+(S석)20000원+(A석)10000원',\n",
       "       '(R석)70000원+(S석)50000원+(A석)30000원', '홈페이지 참조',\n",
       "       '1층: 7000원+2층: 5000원', 'R 90000원+S 70000원+A 50000원', '50000원',\n",
       "       '(VIP석)150000원+(R석)130000원+(S석)100000원+(A석)70000원',\n",
       "       '(R석)121000원+(S석)110000원', '(R석)99000원+(S석)88000원+(A석)66000원',\n",
       "       '(R석)20000원+(S석)10000원', '(R석)77000원+(S석)66000원',\n",
       "       '1층10000원+2층5000원', '1층100000원+2층70000원', '1층5000원+2층5000원',\n",
       "       '1층20000원+2층15000원', '1층25000원+2층20000원', '1층20000원+2층10000원',\n",
       "       '3000원', 'R석 30000원 +S석 20000원', 'R석 60000원+S석 50000원 +A석 40000원',\n",
       "       'R석20000원+S석15000원', '전석19800원', 'R석40000원+S석30000원', '전석30000원',\n",
       "       '1층15000원+2층10000원', 'R석35000원+S석25000원', 'R석 25000원+S석 15000원',\n",
       "       'R석 20000원+S석 10000원+A석 5000원', '성인10000원+청소년5000원',\n",
       "       'R석 40000원+S석 20000원+A석 10000원', 'S석 10000원+A석 5000원', '1층 10000원',\n",
       "       '1층 : 20000', 'R석 66000원 S석 44000원',\n",
       "       'R석 90000원 S석 80000원 A석 70000원 B석 50000원 C석 40000원', '25000원',\n",
       "       '30000원', '40000원', '아이 12000+어른 7000', 'R50000+S30000',\n",
       "       '전석 20000+청년티켓 10000', 'R90000+S70000+A50000+B40000',\n",
       "       'R70000+S50000+A50000', 'OP110000+R90000+S70000+A50000+B40000',\n",
       "       'R60000+S50000+A40000', 'R66000+S55000', 'S50000+A30000',\n",
       "       '전석 3000', 'R40000+S30000+A20000', 'S30000+A20000+청년티켓 10000',\n",
       "       '전석 10000+가족패키지 3매 20000', 'S30000+A20000', 'A20000+B10000',\n",
       "       'A20000+B10000+청년티켓 10000', 'R 50000+S40000+A30000+B20000',\n",
       "       'R 40000+S30000+A20000', 'R 70000+S50000+A30000+B20000',\n",
       "       'S 30000+A 20000+B 10000', 'R 50000+S 40000+A 30000',\n",
       "       '전석20000+청년티켓10000', '전석30000+청년티켓15000', '성인 20000+아이 10000',\n",
       "       '유아어린이9000+보호자5000', '전석10000', '전석15000+청년티켓10000', '전석30000',\n",
       "       'A 20000+B 10000+청년티켓 10000', 'R 50000+S 30000', '전석 70000',\n",
       "       'R 50000+ S 30000+ A 20000', 'R 90000+ S 60000+ A 40000',\n",
       "       'R 60000+S 40000+A 30000+B 20000', 'R 70000+S 50000+A 40000',\n",
       "       'R 40000+S 30000+청년티켓20000', 'R50000+S40000+A30000', '전석5000',\n",
       "       'R 30000+S 20000', 'S 70000+A 50000+B 30000',\n",
       "       'R석 40000원+S석 20000원', '1층 30000원+2층 25000원', '전석 132000원',\n",
       "       '일반 35000원', '전석 121000원', '성인10000원+청소년7000원+어린이(만 3세이상)5000원',\n",
       "       '관내7000원+관외10000원', 'R석 66000원+S석 44000원+A석 22000원',\n",
       "       'R석 50000원+S석 40000원+A석 30000원', 'R석 50000+S석 40000원+A석 30000원',\n",
       "       'R석 30000원+S석 20000원+A석 10000원',\n",
       "       'FS석 154000원+VIP석 143000원+R석132000원+S석 110000원+A석 88000원',\n",
       "       'R석 100000원+S석 80000원+A석 60000원+B석 40000원', '무료공연',\n",
       "       'R석 5만원+S석 4만원+A석 3만원', '전석10000원',\n",
       "       'R석 90000원+S석 70000원+A석 50000원', 'R석 40000원+S석 30000원',\n",
       "       'VIP석 160000원+R석 130000원+S석 100000원+A석 70000원', '88000',\n",
       "       'VIP석 7만원+R석 5만원+S석 3만원+A석 2만원',\n",
       "       'VIP석 5만원, R석 4만원, S석 3만원, A석 2만원', '40000', '25000', '1.5만원+1만원',\n",
       "       'R석 70000원+S석 50000원+A석 40000원',\n",
       "       'VIP석 150000원+R석 120000원+S석 90000원+A석 60000원',\n",
       "       '일반 15000원+청소년.예술인.장애인 10000원', 'R석 50000원+S석 30000원',\n",
       "       'R석 66000원+S석 55000원', 'R석 50000원+S석 30000원+A석 20000원',\n",
       "       'R석 6만원+S석 4만원', 'R 20000원+S 10000원', 'R석 88000원/ S석 77000원',\n",
       "       'S석 50000원+A석 30000원+B석 20000원', 'R 30000 + S 20000 + A 10000',\n",
       "       '1층 15000원+2층 10000원', '1층 25000원+2층 20000원',\n",
       "       'R석 3만원+S석 2만원+A석 1만원', 'R석80000원/S석70000원/A석50000원',\n",
       "       'R석20000원/S석10000원', 'VIP석 143000원/R석131000원/A석100000원', '22000원',\n",
       "       'VIP 160000+ R 130000+ S 100000', 'R 77000+ S 55000',\n",
       "       'R 40000+ S 30000', 'VIP 80000+ R 60000+ S 40000+ A 20000',\n",
       "       'VIP 100000+ R 80000+ S 60000', 'R 50000+ S 30000',\n",
       "       '1층 : 15000 2층 : 10000', 'R석 154000원 S석 132000원',\n",
       "       '1층 : 5000 2층 : 5000', '1층 : 20000 2층 : 15000',\n",
       "       'VIP석 : 40000 R석 : 25000 A석 : 20000 B석 : 15000', '전석 : 25000',\n",
       "       '1층 : 10000', '일반 7000+장애인 등 5000', '일반 15000+장애인 등 7500',\n",
       "       '일반 10000+장애인 등 5000', '성인1000원+청소년500원 등', '5천원', '2~5만원',\n",
       "       '1~3만원', '대인18000원+소인12000', 'R석(30000원) S석(20000원) A석(10000원)',\n",
       "       'VIP 170000+ 젤리클석 170000+ R 140000+ S 110000+ A 80000',\n",
       "       'R 30000+ S 25000', 'R 77000+ S 66000',\n",
       "       'VIP 320000+ R 240000+ S 150000+ A 90000', 'R 40000+ S 20000',\n",
       "       'VIP 110000+ R 99000+ S 77000+ A 55000',\n",
       "       'R 100000+ S 80000+ A 60000', 'R 60000+ S40000',\n",
       "       'VIP 150000+ R 12000+ S 70000+ A 50000', '전석 40000',\n",
       "       'R 120000+ S 90000+ A 60000+ B 40000', '255000+150000+34000+20000',\n",
       "       'VIP 90000+ R 70000+ S 50000', '전석 25000', 'R 40000 + S 30000',\n",
       "       'VIP 170000 + R 140000 + S 110000',\n",
       "       'VIP석 150000원+R석 120000원+S석 90000원+A석 60000원+B석 30000원',\n",
       "       'FS석 154000원 + VIP석 143000원 + R석132000원 + S석 110000원 + A석 88000원',\n",
       "       'R석 50000원+ S석 30000원+ A석 10000원',\n",
       "       'R석 30000원+ S석 20000원+ A석 10000원', 'R석 66000원 S석 44000원 A석 22000원',\n",
       "       '2.5~4만원', '1층30000원+2층20000원', '2만원', '5천원~3만원',\n",
       "       'R석 35000원 S석 25000원', 'R석77000원+S석55000원', 'R석35000원+S석20000원',\n",
       "       '아동24000원+성인18000원', '성인 15000원+아동23000원', 'R석 45000원 S석 30000원',\n",
       "       '전석 25000원', 'R15,000 S10,000', '전석5,000',\n",
       "       'R20,000 S15,000 A10,000', '미정',\n",
       "       'VIP석 77000원 R석 66000원 S석 55000원 A석 33000원', '전석 초대', '전석 80000원',\n",
       "       '1층20000원', '30000원 + 20000원', '3000원(어린이+청소년 무료)',\n",
       "       'R 50000 + S 30000', '유료회원 초대', '전석 무료', '전석 30000 + 시야제한석 15000',\n",
       "       'R 50000 + S 40000 + 시야제한석 20000', 'R 50000 + S 30000 + A 20000',\n",
       "       '아동 15000원+성인 10000원', 'R 40000 + S 30000 + A 20000',\n",
       "       'VIP 120000 + R 100000 + S 80000 + A 60000',\n",
       "       'OP 60000 + R 60000 + S 40000', '일반10000원+청소년8000원',\n",
       "       '청소년 5000원+일반 10000원', '38500원', '일반10000원+청소년5000원',\n",
       "       'R석 10000원 + S석 6000원', '전석초대', '일반3천원+청소년2천원',\n",
       "       'R 25000 + S 15000', 'R 30000 + S 20000',\n",
       "       'VIP 150000 + R 120000 + S 80000 + A 40000',\n",
       "       '음료 무제한 65000 + 기본권 55000', '2~3만원', '110000~150000',\n",
       "       'VIP 50000+ R 40000+ S 30000+ A 20000', '일반 20000원 학생 10000원',\n",
       "       '1층 15000원 2층 10000원', '60000원', '40000~80000',\n",
       "       '1층 10000원 2층 5000원', 'R석 50000원 30000원 A석 20000원',\n",
       "       '1층 25000원 2층 20000원', '일반 40000원 할인 25000원',\n",
       "       '성인 10000원 청소년 및 장애인(50할인) 5000원', '1층 30000원 2층 25000원',\n",
       "       '예매 33000원', '평균 23000', '평균 21250', '평균 17850', '평균 10000',\n",
       "       '예매 50000 / 30000', '1층 20000원 2층 15000원',\n",
       "       'R 110000원+S 88000원+A 55000원+B 22000원',\n",
       "       '1층VIP석100000원+1층R석70000원+2층S석50000원', '1층 70000원 2층 60000원',\n",
       "       '성인 10000원 청소년 이하(만 18세이하) 5천원', '일반 10000원 학생 5000원 단체할인 5000원',\n",
       "       'VIP석 50000원 R석 40000원', '1층60000원+2층40000원', '전석20000',\n",
       "       'R 50000+S 30000+B 10000', 'S 20000+B 10000', 'R 30000원+S 20000원',\n",
       "       'R 60000원+S 50000원+A 40000원', 'R 50000원+S 40000원+A 30000원',\n",
       "       'R 40000원+S 30000원+A 20000원',\n",
       "       'VIP 140000원+R 110000원+S 80000원+A 60000원', '1층10000원',\n",
       "       'R석80000원+S석60000원+A석40000원', 'R석50000원+S석40000원+A석20000원',\n",
       "       '예매 20000원+ 현매 23000원', '예매 15000원+ 현매 20000원',\n",
       "       '예매 25000원+ 현매 28000원', 'R석 30000+ S석 10000',\n",
       "       '예매 10000원+ 현매 15000원', '예매 30000원+ 현매 35000원',\n",
       "       '예매 22000원+ 현매 25000원', '예매 20000원+ 현매 25000원',\n",
       "       'R석20000원+S석15000원+A석10000원', '일반 40000원 학생 25000원 할인 25000원',\n",
       "       '성인 10000원 청소년 이하 5000원',\n",
       "       '1회 10시 무료 2회 19시 30분 1층 10000원 2층 5000원', '1층 3만원+2층 1만원',\n",
       "       '1층 4만원+2층 2만원', '1층 1만원+2층 5천원', '1F 15000원 + 2F 10000원',\n",
       "       '일반 10000원+학생 5000원', '일반 10000원+청소년 이하 50 할인',\n",
       "       '일반 10000원+학생 5000원+할인 5000원+단체 5000원', '일반 50000원+할인 30000원',\n",
       "       '1F 10000원+2F 5000원', '1F 25000원 + 2F 20000원', 'R석55000원+S석44000원',\n",
       "       '일반66000원+학생66000원+할인55000원', '일반10000원+학생5000원+할인5000원+단체5000원',\n",
       "       '일반20000원+학생10000원', '일반10000원', 'R석66000원+S석55000원',\n",
       "       '성인10000원+청소년이하5000원', '일반66000원+학생66000원',\n",
       "       '일반40000원/20000원+학생10000원', 'R석60000원+S석50000원',\n",
       "       'VIP 88000+R 66000+ S 44000+ A 33000',\n",
       "       'VIP 150000+ R 120000+ S 80000+ A 60000',\n",
       "       'VIP 150000+ R 130000+ S 90000', 'R 60000+ S 40000+ A 20000',\n",
       "       'VIP 170000+R 140000+ S 100000+ A 70000', '1층 5천원+2층 3천원',\n",
       "       '1층 2만원+2층 1만원', '3만원+2만원', '1층 5만원+2층 3만원',\n",
       "       'VIP석150000원+R석130000원+S석100000원+A석70000원', '4000원',\n",
       "       'S석 2만원 / A석 1만원', 'S석 4만원 / A석 3만원', 'S석 1만원/ A석 5천원',\n",
       "       '성인 10000원+청소년 5000원', '동굴 입장 시 무료', '시음권 1000원',\n",
       "       'R 90000+S 70000+A 50000', 'R 55000+S 44000',\n",
       "       'R 90000+ S 70000+ A 50000', '(R석)50000원+(S석)30000원',\n",
       "       '10000원+5000원', 'R 70000+ S 50000+ A 30000', 'R 66000+ S 55000',\n",
       "       '(무대석)30000원+(R석)30000원+(S석)20000원+(A석)10000원',\n",
       "       '(VIP석)160000원+(R석)140000원+(S석)110000원+(A석)80000원', '일반 30000원',\n",
       "       '일반 10000원', '일반 20000원', 'R석99000원+S석88000원+A석77000원+B석55000원',\n",
       "       'R 90000+ S 60000+ A 30000', '전석 1000', 'R 20000+ S 15000',\n",
       "       'R석 143000원+S석 121000원+붉은노을석 99000원',\n",
       "       'R석 130000원+S석 100000원+A석 70000원+B석 40000원',\n",
       "       'R석 50000원+S석 30000원+A석 10000원', 'R석66000원+S석44000원+A석22000원',\n",
       "       'R석50000원+S석30000원', 'R석99000원+S석77000원+A석55000원+B석33000',\n",
       "       'R석100000원+S석80000원+A석50000원+B석30000',\n",
       "       'R석 77000원+S석 55000원+A석 33000원',\n",
       "       'R석120000원+S석100000원+A석80000원+B석60000원',\n",
       "       'R석150000원+S석130000원+A석100000원+B석70000원+C석40000원',\n",
       "       'R석33000원+S석22000원+A석11000원', 'R석 44000원+S석33000원',\n",
       "       '어린이 10000원+성인5000원', '유료', '성인5000원+학생3000원',\n",
       "       'R석110000원+S석99000원+A석88000원+B석77000원+C석55000원',\n",
       "       'R석77000원+S석66000원+A석55000원+B석44000원',\n",
       "       'R석40000원+S석30000원+A석20000원', 'R석55000원+S석44000원+A석33000원',\n",
       "       '아동10000원+성인5000원', 'R석50000원+S석40000원+A석30000원+B석20000원',\n",
       "       'R석88000원+S석77000원+A석66000원+B석44000원', '아동15000원+성인10000원',\n",
       "       '일반 1000원', '일반 40000원', '성인 10000원 + 청소년 이하 5000원',\n",
       "       'R석99000원+S석88000원+A석77000원',\n",
       "       'R석10000원0+S석80000원+A석60000원+B석40000원',\n",
       "       'R석60000원+S석50000원+A석40000원',\n",
       "       '(VIP석)150000원+(R석)120000원+(S석)80000원+(A석)60000원',\n",
       "       '(R석)88000원+(S석)77000원+(A석)66000원', '13000', '전석50000원', '66000원',\n",
       "       '전석44000원', '전석70000원', 'R석 70000원+S석 60000원+A석 30000원',\n",
       "       '(R석)70000원+(S석)60000원+(A석)50000원', 'R석50000원+S석40000원',\n",
       "       '아이7000원+성인3000원', '전석4만원', 'R석7만7천원+S석 5만5천원', '전석2만5천원',\n",
       "       'R석4만원+S석3만원', 'R 132000 + S 110000 + A 88000 + B 55000', '55000',\n",
       "       '70000', '99000 / 88000 / 77000', 'R 20000 + S 15000',\n",
       "       'R 90000 + S 70000 + A 50000', 'R 50000 + S 40000',\n",
       "       'R석 70000원+S석 50000원+A석 30000원', '2000원', '24800원',\n",
       "       'R 90000 + S 60000 + A 40000', 'R 40000 + S 30000 + 시야제한석 15000',\n",
       "       'A석15000원+B석10000원', 'R석88000원+S석77000원+A석66000원',\n",
       "       'R석121000원+S석110000원', 'R석88000원+S석66000원', 'R석30000원+S석25000원',\n",
       "       'R석25000원+S석20000원+A석15000원', '단체 6000원+개인 10000원',\n",
       "       '1층 13000원+2층 9000원', '전석 7000원', 'R석 100000원+S석 80000원',\n",
       "       '1층 44000원+1층 33000원', '1층 55000원+2층 33000원',\n",
       "       'R석 59000원+S석 49000원+A석 39000원', '1층 77000원+2층 66000원', '유료회원대상',\n",
       "       'VIP석 29900원+R석 19100원', '전석 35000원', 'R석 55000원+S석 45000원',\n",
       "       'R석 66000원+ S석 55000원', 'R석70000원+S석60000원', 'R석35000원+S석30000원',\n",
       "       '66000', '전석40000원', 'VIP석 60000원+R석 50000원+S석 40000원+A석 30000원',\n",
       "       'R석 20000원+S석 15000원+A석 10000원', '전석 3000원',\n",
       "       'R석50000원+S석30000원+A석 20000원', 'R석80000원+S석70000원', '전석39000원',\n",
       "       'R석90000원+S석80000원', '일반 20000원 + 학생 15000원 + 단체 15000원',\n",
       "       '일반 50000원 + 학생 33000원 + 할인 33000원',\n",
       "       '전석 20000원(할인: 도민 25. 만3세~18세 50. 만3세 이하 무료)', '22000',\n",
       "       'R석 50000원+S석 40000원+A석 40000원+B석 10000원', 'R석 5000원+S석 3000원',\n",
       "       'VIP석 10000원+S석 5000원', 'A석:30000원+B석:20000원', 'A석:10000원',\n",
       "       'A석:20000원', 'R 60000+S 50000', '전석 15000',\n",
       "       'VIP 140000+R 110000+S 80000+A 60000', 'A석:100000원', 'A석:50000원',\n",
       "       'S석:30000원+A석:20000원+B석:10000원', '일반 50000원'], dtype=object)"
      ]
     },
     "execution_count": 26,
     "metadata": {},
     "output_type": "execute_result"
    }
   ],
   "source": [
    "# 관람 요금 컬럼의 고유값 확인\n",
    "event_df['관람요금'].unique()"
   ]
  },
  {
   "cell_type": "markdown",
   "metadata": {},
   "source": [
    "'10000' 또는 '전석 10000원'과 같이 단위나 설명이 붙거나 붙지 않은 것들도 있고, 'VIP석 10000원+S석 5000원'과 같이 여러 가격이 한꺼번에 표시된 것도 있네요. \n",
    "이 데이터를 숫자 형식으로 정제해 봅시다.\n",
    "\n",
    "**규칙**:\n",
    "- 숫자만 있는 경우 → 숫자 그대로\n",
    "- X만X천(원) → XX000"
   ]
  },
  {
   "cell_type": "markdown",
   "metadata": {},
   "source": [
    "이제 변환 함수를 만들어 `관람요금` 열에 적용해 볼까요? "
   ]
  },
  {
   "cell_type": "code",
   "execution_count": 30,
   "metadata": {},
   "outputs": [
    {
     "data": {
      "text/plain": [
       "관람요금\n",
       "10000.0    591\n",
       "20000.0    348\n",
       "5000.0     246\n",
       "15000.0    188\n",
       "30000.0    155\n",
       "          ... \n",
       "24500.0      1\n",
       "75000.0      1\n",
       "39000.0      1\n",
       "16666.0      1\n",
       "38666.0      1\n",
       "Name: count, Length: 135, dtype: int64"
      ]
     },
     "execution_count": 30,
     "metadata": {},
     "output_type": "execute_result"
    }
   ],
   "source": [
    "# 관람 요금 정제 함수\n",
    "def parse_price(value):\n",
    "    if pd.isna(value):\n",
    "        return np.nan\n",
    "    \n",
    "    value = str(value).strip()\n",
    "    \n",
    "    # 숫자만 있는 경우\n",
    "    if re.fullmatch(r'\\d+', value):\n",
    "        return int(value)\n",
    "    \n",
    "    def replace_complex(match):\n",
    "        man = int(match.group(1))\n",
    "        chun = int(match.group(2))\n",
    "        return str(man * 10000 + chun * 1000)\n",
    "\n",
    "    # 'X만X천(원)' → 'XX000'\n",
    "    price = re.sub(r'(\\d+)\\s*만\\s*(\\d+)\\s*천', replace_complex, value)\n",
    "\n",
    "    # 'X만(원)' → 'X0000'\n",
    "    price = re.sub(r'(\\d+)\\s*만\\s*원?', lambda m: str(int(m.group(1)) * 10000) + ' ', price)\n",
    "    \n",
    "    # 'X천(원)' → 'X000'\n",
    "    price = re.sub(r'(\\d+)\\s*천\\s*원?', lambda m: str(int(m.group(1)) * 1000) + ' ', price)\n",
    "\n",
    "    if price != value:\n",
    "        prices = re.findall(r'\\d{3,6}', price)\n",
    "        if prices:\n",
    "            prices = list(map(int, prices))\n",
    "            return int(sum(prices) / len(prices))\n",
    "        \n",
    "    # 'X0000원', '전석 X0000원' → 'X0000'\n",
    "    prices = re.findall(r'\\d{3,6}', value)\n",
    "    if prices:\n",
    "        prices = list(map(int, prices))\n",
    "        return int(sum(prices) / len(prices))\n",
    "    \n",
    "    return np.nan\n",
    "\n",
    "# 관람 요금 컬럼에 적용\n",
    "event_df['관람요금'] = event_df['관람요금'].apply(parse_price)\n",
    "event_df['관람요금'].value_counts()"
   ]
  },
  {
   "cell_type": "markdown",
   "metadata": {},
   "source": [
    "관람 요금 정보가 숫자 형태로 변환되었습니다.     \n",
    "자, 이제부터 본격적으로 공연 및 축제 데이터를 분석해 볼까요?"
   ]
  },
  {
   "cell_type": "markdown",
   "metadata": {},
   "source": [
    "---"
   ]
  },
  {
   "cell_type": "markdown",
   "metadata": {},
   "source": [
    "## 3. 데이터 분석하기"
   ]
  },
  {
   "cell_type": "markdown",
   "metadata": {},
   "source": [
    "### 3.1. 월별 행사 개최 현황 분석"
   ]
  },
  {
   "cell_type": "markdown",
   "metadata": {},
   "source": [
    ">🎇 \"일년 중 축제가 가장 많이 열리는 시기는 언제일까?\"\n",
    "\n",
    "공연 및 축제 데이터를 바탕으로 월별 행사 개최 현황을 분석해 봅시다."
   ]
  },
  {
   "cell_type": "markdown",
   "metadata": {},
   "source": [
    "먼저 `event_df`에서 `행사시작일시` 컬럼에 기반하여 각 행사가 시작되는 월 정보를 추출하려 합니다.    \n",
    "앞서 2. 데이터 정제하기에서 `datatime` 형식으로 변환했기 때문에 손쉽게 월(month) 정보만 얻을 수 있습니다."
   ]
  },
  {
   "cell_type": "code",
   "execution_count": 31,
   "metadata": {},
   "outputs": [
    {
     "data": {
      "text/html": [
       "<div>\n",
       "<style scoped>\n",
       "    .dataframe tbody tr th:only-of-type {\n",
       "        vertical-align: middle;\n",
       "    }\n",
       "\n",
       "    .dataframe tbody tr th {\n",
       "        vertical-align: top;\n",
       "    }\n",
       "\n",
       "    .dataframe thead th {\n",
       "        text-align: right;\n",
       "    }\n",
       "</style>\n",
       "<table border=\"1\" class=\"dataframe\">\n",
       "  <thead>\n",
       "    <tr style=\"text-align: right;\">\n",
       "      <th></th>\n",
       "      <th>행사시작일시</th>\n",
       "      <th>개최월</th>\n",
       "    </tr>\n",
       "  </thead>\n",
       "  <tbody>\n",
       "    <tr>\n",
       "      <th>0</th>\n",
       "      <td>2018-11-02 14:00:00</td>\n",
       "      <td>11</td>\n",
       "    </tr>\n",
       "    <tr>\n",
       "      <th>1</th>\n",
       "      <td>2018-11-07 11:00:00</td>\n",
       "      <td>11</td>\n",
       "    </tr>\n",
       "    <tr>\n",
       "      <th>2</th>\n",
       "      <td>2018-11-08 11:00:00</td>\n",
       "      <td>11</td>\n",
       "    </tr>\n",
       "    <tr>\n",
       "      <th>3</th>\n",
       "      <td>2018-11-16 14:00:00</td>\n",
       "      <td>11</td>\n",
       "    </tr>\n",
       "    <tr>\n",
       "      <th>4</th>\n",
       "      <td>2018-11-19 15:00:00</td>\n",
       "      <td>11</td>\n",
       "    </tr>\n",
       "    <tr>\n",
       "      <th>...</th>\n",
       "      <td>...</td>\n",
       "      <td>...</td>\n",
       "    </tr>\n",
       "    <tr>\n",
       "      <th>7612</th>\n",
       "      <td>2024-08-10 15:00:00</td>\n",
       "      <td>8</td>\n",
       "    </tr>\n",
       "    <tr>\n",
       "      <th>7613</th>\n",
       "      <td>2024-08-17 15:00:00</td>\n",
       "      <td>8</td>\n",
       "    </tr>\n",
       "    <tr>\n",
       "      <th>7614</th>\n",
       "      <td>2024-08-24 15:00:00</td>\n",
       "      <td>8</td>\n",
       "    </tr>\n",
       "    <tr>\n",
       "      <th>7615</th>\n",
       "      <td>2024-09-21 15:00:00</td>\n",
       "      <td>9</td>\n",
       "    </tr>\n",
       "    <tr>\n",
       "      <th>7616</th>\n",
       "      <td>2024-09-28 15:00:00</td>\n",
       "      <td>9</td>\n",
       "    </tr>\n",
       "  </tbody>\n",
       "</table>\n",
       "<p>7614 rows × 2 columns</p>\n",
       "</div>"
      ],
      "text/plain": [
       "                  행사시작일시  개최월\n",
       "0    2018-11-02 14:00:00   11\n",
       "1    2018-11-07 11:00:00   11\n",
       "2    2018-11-08 11:00:00   11\n",
       "3    2018-11-16 14:00:00   11\n",
       "4    2018-11-19 15:00:00   11\n",
       "...                  ...  ...\n",
       "7612 2024-08-10 15:00:00    8\n",
       "7613 2024-08-17 15:00:00    8\n",
       "7614 2024-08-24 15:00:00    8\n",
       "7615 2024-09-21 15:00:00    9\n",
       "7616 2024-09-28 15:00:00    9\n",
       "\n",
       "[7614 rows x 2 columns]"
      ]
     },
     "execution_count": 31,
     "metadata": {},
     "output_type": "execute_result"
    }
   ],
   "source": [
    "# 월 정보를 추출하여 새로운 컬럼 생성 \n",
    "event_df['개최월'] = event_df['행사시작일시'].dt.month\n",
    "event_df[['행사시작일시', '개최월']]"
   ]
  },
  {
   "cell_type": "markdown",
   "metadata": {},
   "source": [
    "이처럼 `행사시작일시` 열에서 월 정보만 추출된 것을 확인할 수 있습니다.     \n",
    "이번엔 각 월별로 그룹화하여 행사 개최 수를 계산해 볼까요?\n",
    "\n",
    ">📌 `groupby()`는 특정 컬럼을 기준으로 데이터를 그룹화한 뒤, 각 그룹에 집계, 변환, 필터 등의 연산을 적용할 수 있게 해줍니다."
   ]
  },
  {
   "cell_type": "code",
   "execution_count": 32,
   "metadata": {},
   "outputs": [
    {
     "data": {
      "text/plain": [
       "개최월\n",
       "1     264\n",
       "2     326\n",
       "3     560\n",
       "4     636\n",
       "5     736\n",
       "6     666\n",
       "7     634\n",
       "8     619\n",
       "9     750\n",
       "10    881\n",
       "11    837\n",
       "12    705\n",
       "dtype: int64"
      ]
     },
     "execution_count": 32,
     "metadata": {},
     "output_type": "execute_result"
    }
   ],
   "source": [
    "# 개최월 기준으로 그룹화하여 행사 수 계산\n",
    "event_monthly_counts = event_df.groupby('개최월').size()\n",
    "event_monthly_counts"
   ]
  },
  {
   "cell_type": "markdown",
   "metadata": {},
   "source": [
    "1월에 행사 수가 가장 적고, 10월에 가장 많은 것을 확인할 수 있네요!"
   ]
  },
  {
   "cell_type": "markdown",
   "metadata": {},
   "source": [
    "다음으로 축제 데이터인 `festival_df`에 대해서도 월 정보만 추출하여 그룹화해 봅시다."
   ]
  },
  {
   "cell_type": "code",
   "execution_count": 34,
   "metadata": {},
   "outputs": [
    {
     "data": {
      "text/plain": [
       "개최월\n",
       "1      42\n",
       "2      24\n",
       "3      73\n",
       "4     119\n",
       "5     194\n",
       "6      66\n",
       "7      68\n",
       "8      86\n",
       "9     188\n",
       "10    312\n",
       "11     60\n",
       "12     47\n",
       "dtype: int64"
      ]
     },
     "execution_count": 34,
     "metadata": {},
     "output_type": "execute_result"
    }
   ],
   "source": [
    "# 개최월 기준으로 그룹화하여 축제 수 계산\n",
    "festival_df['개최월'] = festival_df['축제시작일자'].dt.month\n",
    "festival_monthly_counts = festival_df.groupby('개최월').size()\n",
    "festival_monthly_counts"
   ]
  },
  {
   "cell_type": "markdown",
   "metadata": {},
   "source": [
    "공연 행사와 마찬가지로 축제도 10월에 가장 많이 이루어지네요. "
   ]
  },
  {
   "cell_type": "markdown",
   "metadata": {},
   "source": [
    "이제 행사와 축제의 개최 건수를 하나의 그래프로 표현하여 비교해 볼까요?    \n",
    "앞서 출력했던 `event_monthly_counts`와 `festival_monthly_counts`를 사용합니다."
   ]
  },
  {
   "cell_type": "code",
   "execution_count": 35,
   "metadata": {},
   "outputs": [
    {
     "data": {
      "image/png": "[encoded data removed]",
      "text/plain": [
       "<Figure size 1000x600 with 1 Axes>"
      ]
     },
     "metadata": {},
     "output_type": "display_data"
    }
   ],
   "source": [
    "# 선 그래프 그리기\n",
    "plt.figure(figsize=(10, 6))\n",
    "\n",
    "plt.plot(event_monthly_counts.index, event_monthly_counts.values, marker='o', label='행사')\n",
    "plt.plot(festival_monthly_counts.index, festival_monthly_counts.values, marker='s', label='축제')\n",
    "\n",
    "plt.title('월별 행사 및 축제 개최 건수')\n",
    "plt.xlabel('월')\n",
    "plt.ylabel('건수')\n",
    "plt.xticks(range(1, 13))\n",
    "plt.grid(True, linestyle='--', alpha=0.5)\n",
    "plt.legend()\n",
    "plt.tight_layout()\n",
    "plt.show()"
   ]
  },
  {
   "cell_type": "markdown",
   "metadata": {},
   "source": [
    "위와 같이 월별 행사 및 축제 개최 건수를 시각화하니 패턴이 더 분명하게 눈에 들어오네요.    \n",
    "행사의 경우 2월에서 3월 사이에 개최 건수가 크게 증가합니다.    \n",
    "한편 축제의 경우 10월에서 11월 사이에 개최 건수가 크게 감소하는 것을 볼 수 있습니다."
   ]
  },
  {
   "cell_type": "markdown",
   "metadata": {},
   "source": [
    "이번에는 축제와 행사 일정을 간트차트 형식으로 표현해 볼까요?     \n",
    "일정을 수평선으로 나타내보면 행사가 특정 시기에 얼마나 많이 개최되는 지 쉽게 확인할 수 있습니다.     \n",
    "그럼 2024년을 기준으로 간단한 '축제와 행사 일정표'를 만들어 볼까요?"
   ]
  },
  {
   "cell_type": "markdown",
   "metadata": {},
   "source": [
    "먼저 `festival_df`중 2024년의 축제만 필터링하여 100개 샘플만 뽑아 봅시다."
   ]
  },
  {
   "cell_type": "code",
   "execution_count": 27,
   "metadata": {},
   "outputs": [],
   "source": [
    "# 2024년에 시작하는 축제만 필터링\n",
    "festival_2024 = festival_df[\n",
    "    (festival_df['축제시작일자'].dt.year == 2024)\n",
    "]\n",
    "\n",
    "sample = festival_2024.sample(n=100, random_state=42).sort_values('축제시작일자').reset_index(drop=True)"
   ]
  },
  {
   "cell_type": "markdown",
   "metadata": {},
   "source": [
    "이제 이 데이터를 바탕으로 간트차트를 그려 봅시다."
   ]
  },
  {
   "cell_type": "code",
   "execution_count": 28,
   "metadata": {},
   "outputs": [
    {
     "data": {
      "image/png": "[encoded data removed]",
      "text/plain": [
       "<Figure size 1400x1400 with 1 Axes>"
      ]
     },
     "metadata": {},
     "output_type": "display_data"
    }
   ],
   "source": [
    "# 축제 시작~종료 범위 설정\n",
    "start = sample['축제시작일자'].min()\n",
    "end = sample['축제종료일자'].max()\n",
    "months = pd.date_range(start=start, end=end, freq='MS')\n",
    "\n",
    "# 간트차트 그리기\n",
    "plt.figure(figsize=(14, 14))\n",
    "for i, row in sample.iterrows():\n",
    "    plt.plot([row['축제시작일자'], row['축제종료일자']], [i, i], marker='o', alpha=0.8)\n",
    "\n",
    "plt.xticks(months, [f\"{d.month:01d}월\" for d in months])\n",
    "plt.yticks([])\n",
    "for date in months:\n",
    "    plt.axvline(x=date, color='gray', linestyle='--', linewidth=0.5, alpha=0.6)\n",
    "plt.title('2024년 축제 기간 간트차트 (샘플 100개)')\n",
    "plt.tight_layout()\n",
    "plt.show()"
   ]
  },
  {
   "cell_type": "markdown",
   "metadata": {},
   "source": [
    "축제의 시작일과 종료일이 선과 마커로 표시되어 있습니다.    \n",
    "특히 10월에 비슷한 시기에 겹쳐 진행되는 축제들이 많네요. "
   ]
  },
  {
   "cell_type": "markdown",
   "metadata": {},
   "source": [
    "한편 4월부터 6월까지 긴 일정으로 진행되는 축제들이 몇몇 보이는데요.     \n",
    "축제별로 개최 기간을 계산해보고 가장 긴 기간 동안 열리는 축제가 무엇인지 직접 확인해 봅시다.     \n",
    "기간을 계산하기 위해서는 아래와 같이 `축제종료일자`에서 `축제시작일자`를 빼주면 됩니다."
   ]
  },
  {
   "cell_type": "code",
   "execution_count": 29,
   "metadata": {},
   "outputs": [],
   "source": [
    "# 개최 기간 계산\n",
    "sample['기간'] = (sample['축제종료일자'] - sample['축제시작일자']).dt.days"
   ]
  },
  {
   "cell_type": "markdown",
   "metadata": {},
   "source": [
    "이제 기간이 가장 긴 축제부터 정렬하여 출력해 봅시다."
   ]
  },
  {
   "cell_type": "code",
   "execution_count": 30,
   "metadata": {},
   "outputs": [
    {
     "data": {
      "text/html": [
       "<div>\n",
       "<style scoped>\n",
       "    .dataframe tbody tr th:only-of-type {\n",
       "        vertical-align: middle;\n",
       "    }\n",
       "\n",
       "    .dataframe tbody tr th {\n",
       "        vertical-align: top;\n",
       "    }\n",
       "\n",
       "    .dataframe thead th {\n",
       "        text-align: right;\n",
       "    }\n",
       "</style>\n",
       "<table border=\"1\" class=\"dataframe\">\n",
       "  <thead>\n",
       "    <tr style=\"text-align: right;\">\n",
       "      <th></th>\n",
       "      <th>축제명</th>\n",
       "      <th>축제내용</th>\n",
       "      <th>축제시작일자</th>\n",
       "      <th>축제종료일자</th>\n",
       "      <th>기간</th>\n",
       "    </tr>\n",
       "  </thead>\n",
       "  <tbody>\n",
       "    <tr>\n",
       "      <th>12</th>\n",
       "      <td>휴애리 봄 수국축제</td>\n",
       "      <td>오색빛깔 수국을 한 곳에서 올 봄 가장 많은 수국을 만나 볼 수 있는 곳</td>\n",
       "      <td>2024-04-05</td>\n",
       "      <td>2024-06-16</td>\n",
       "      <td>72</td>\n",
       "    </tr>\n",
       "    <tr>\n",
       "      <th>18</th>\n",
       "      <td>삼다공원 야간콘서트</td>\n",
       "      <td>도심 속 삼다공원에서 펼쳐지는 야간 문화관광 축제</td>\n",
       "      <td>2024-04-26</td>\n",
       "      <td>2024-06-14</td>\n",
       "      <td>49</td>\n",
       "    </tr>\n",
       "    <tr>\n",
       "      <th>80</th>\n",
       "      <td>2024 노원달빛산책</td>\n",
       "      <td>예술 등/빛 조각 작품 전시+해외작가전 등</td>\n",
       "      <td>2024-10-18</td>\n",
       "      <td>2024-11-17</td>\n",
       "      <td>30</td>\n",
       "    </tr>\n",
       "    <tr>\n",
       "      <th>66</th>\n",
       "      <td>전주페스타 2024</td>\n",
       "      <td>관광거점도시 전주의 맛, 멋, 흥을 담은 10월의 전주 대표 통합축제</td>\n",
       "      <td>2024-10-03</td>\n",
       "      <td>2024-10-26</td>\n",
       "      <td>23</td>\n",
       "    </tr>\n",
       "    <tr>\n",
       "      <th>14</th>\n",
       "      <td>양동통맥축제</td>\n",
       "      <td>공식행사+프리마켓+문화공연+양동야시장</td>\n",
       "      <td>2024-04-07</td>\n",
       "      <td>2024-04-29</td>\n",
       "      <td>22</td>\n",
       "    </tr>\n",
       "    <tr>\n",
       "      <th>13</th>\n",
       "      <td>제13회 가파도 청보리 축제</td>\n",
       "      <td>청보리 밭+올레길 걷기+소망돌탑쌓기+소라낚시+보물찾기+이벤트 게임 등</td>\n",
       "      <td>2024-04-06</td>\n",
       "      <td>2024-04-28</td>\n",
       "      <td>22</td>\n",
       "    </tr>\n",
       "    <tr>\n",
       "      <th>82</th>\n",
       "      <td>대한민국 국향대전</td>\n",
       "      <td>함평국화의 겨울이야기</td>\n",
       "      <td>2024-10-18</td>\n",
       "      <td>2024-11-03</td>\n",
       "      <td>16</td>\n",
       "    </tr>\n",
       "    <tr>\n",
       "      <th>38</th>\n",
       "      <td>라벤더축제</td>\n",
       "      <td>개막식+공연행사+먹거리부스운영+라벤더사진체험등</td>\n",
       "      <td>2024-06-08</td>\n",
       "      <td>2024-06-23</td>\n",
       "      <td>15</td>\n",
       "    </tr>\n",
       "    <tr>\n",
       "      <th>86</th>\n",
       "      <td>유성 국화축제</td>\n",
       "      <td>국화전시+체험+공연</td>\n",
       "      <td>2024-10-19</td>\n",
       "      <td>2024-11-03</td>\n",
       "      <td>15</td>\n",
       "    </tr>\n",
       "    <tr>\n",
       "      <th>17</th>\n",
       "      <td>익산주얼팰리스보석대축제</td>\n",
       "      <td>30 특별할인행사(24K, 다이아몬드 제외)+주얼리 특별전시+보석 리세팅+보석 체험...</td>\n",
       "      <td>2024-04-17</td>\n",
       "      <td>2024-04-28</td>\n",
       "      <td>11</td>\n",
       "    </tr>\n",
       "  </tbody>\n",
       "</table>\n",
       "</div>"
      ],
      "text/plain": [
       "                축제명                                               축제내용  \\\n",
       "12       휴애리 봄 수국축제           오색빛깔 수국을 한 곳에서 올 봄 가장 많은 수국을 만나 볼 수 있는 곳   \n",
       "18       삼다공원 야간콘서트                        도심 속 삼다공원에서 펼쳐지는 야간 문화관광 축제   \n",
       "80      2024 노원달빛산책                            예술 등/빛 조각 작품 전시+해외작가전 등   \n",
       "66       전주페스타 2024             관광거점도시 전주의 맛, 멋, 흥을 담은 10월의 전주 대표 통합축제   \n",
       "14           양동통맥축제                               공식행사+프리마켓+문화공연+양동야시장   \n",
       "13  제13회 가파도 청보리 축제             청보리 밭+올레길 걷기+소망돌탑쌓기+소라낚시+보물찾기+이벤트 게임 등   \n",
       "82        대한민국 국향대전                                        함평국화의 겨울이야기   \n",
       "38            라벤더축제                          개막식+공연행사+먹거리부스운영+라벤더사진체험등   \n",
       "86          유성 국화축제                                         국화전시+체험+공연   \n",
       "17     익산주얼팰리스보석대축제  30 특별할인행사(24K, 다이아몬드 제외)+주얼리 특별전시+보석 리세팅+보석 체험...   \n",
       "\n",
       "       축제시작일자     축제종료일자  기간  \n",
       "12 2024-04-05 2024-06-16  72  \n",
       "18 2024-04-26 2024-06-14  49  \n",
       "80 2024-10-18 2024-11-17  30  \n",
       "66 2024-10-03 2024-10-26  23  \n",
       "14 2024-04-07 2024-04-29  22  \n",
       "13 2024-04-06 2024-04-28  22  \n",
       "82 2024-10-18 2024-11-03  16  \n",
       "38 2024-06-08 2024-06-23  15  \n",
       "86 2024-10-19 2024-11-03  15  \n",
       "17 2024-04-17 2024-04-28  11  "
      ]
     },
     "execution_count": 30,
     "metadata": {},
     "output_type": "execute_result"
    }
   ],
   "source": [
    "# 개최 기간 기준으로 내림차순 정렬\n",
    "sample.sort_values('기간', ascending=False, inplace=True)\n",
    "sample[['축제명', '축제내용', '축제시작일자', '축제종료일자', '기간']].head(10)"
   ]
  },
  {
   "cell_type": "markdown",
   "metadata": {},
   "source": [
    "가장 긴 기간 동안 진행되는 축제는 '휴애리 봄 수국축제'이고, 무려 72일 동안 진행되었네요!"
   ]
  },
  {
   "cell_type": "markdown",
   "metadata": {},
   "source": [
    "이번에는 `event_df`에 대해서도 위와 같이 간트차트를 만들어 볼까요?"
   ]
  },
  {
   "cell_type": "code",
   "execution_count": 31,
   "metadata": {},
   "outputs": [
    {
     "data": {
      "image/png": "[encoded data removed]",
      "text/plain": [
       "<Figure size 1400x1400 with 1 Axes>"
      ]
     },
     "metadata": {},
     "output_type": "display_data"
    }
   ],
   "source": [
    "# 2024년에 시작하는 행사만 필터링\n",
    "event_2024 = event_df[\n",
    "    (event_df['행사시작일시'].dt.year == 2024)\n",
    "]\n",
    "\n",
    "sample = event_2024.sample(n=100, random_state=42).sort_values('행사시작일시').reset_index(drop=True)\n",
    "\n",
    "# 축제 시작~종료 범위 설정\n",
    "start = sample['행사시작일시'].min()\n",
    "end = sample['행사종료일시'].max()\n",
    "months = pd.date_range(start=start, end=end, freq='MS')\n",
    "\n",
    "# 간트차트 그리기\n",
    "plt.figure(figsize=(14, 14))\n",
    "for i, row in sample.iterrows():\n",
    "    plt.plot([row['행사시작일시'], row['행사종료일시']], [i, i], marker='o', alpha=0.8)\n",
    "\n",
    "plt.xticks(months, [f\"{d.month:01d}월\" for d in months])\n",
    "plt.yticks([])\n",
    "for date in months:\n",
    "    plt.axvline(x=date, color='gray', linestyle='--', linewidth=0.5, alpha=0.6)\n",
    "\n",
    "plt.title('2024년 행사 기간 간트차트 (샘플 100개)')\n",
    "plt.tight_layout()\n",
    "plt.show()"
   ]
  },
  {
   "cell_type": "markdown",
   "metadata": {},
   "source": [
    "앞서 살펴본 축제 일정보다 더 긴 기간동안 진행되는 행사들이 많은 것을 볼 수 있습니다.  "
   ]
  },
  {
   "cell_type": "markdown",
   "metadata": {},
   "source": [
    "---"
   ]
  },
  {
   "cell_type": "markdown",
   "metadata": {},
   "source": [
    "### <span style=\"font-size:24px\">[Quiz 1]</span>"
   ]
  },
  {
   "cell_type": "markdown",
   "metadata": {},
   "source": [
    "❓2018년에 이루어진 행사 중 가장 긴 기간 동안 개최된 행사는 무엇일까요?\n",
    "\n",
    "- 조건:\n",
    "    - `event_df`의 `행사시작일시`가 2018년인 행만 필터링하고, 개최 기간을 계산하였을 때 기간이 가장 긴 행사의 이름(`행사명`)\n",
    "    - `행사명` 값 그대로 입력 (띄어쓰기에 유의)\n",
    "- 답안 형식:\n",
    "    - `quiz_1` 변수에 답안을 `string` 형식으로 저장"
   ]
  },
  {
   "cell_type": "code",
   "execution_count": 32,
   "metadata": {},
   "outputs": [],
   "source": [
    "# 힌트:\n",
    "# 앞서 festival_df에서 2024년 축제만 필터링했던 코드를 참고합니다.\n",
    "# festival_2024 = festival_df[(festival_df['축제시작일자'].dt.year == 2024)]\n",
    "# 이후 개최 기간을 계산합니다.\n",
    "# festival_2024['기간'] = (festival_2024['축제종료일자'] - festival_2024['축제시작일자']).dt.days\n",
    "# 개최 기간 기준으로 내림차순 정렬하여, 가장 행사가 긴 행사의 행사명을 확인합니다.\n",
    "# festival_2024.sort_values('기간', ascending=False, inplace=True)\n"
   ]
  },
  {
   "cell_type": "code",
   "execution_count": 33,
   "metadata": {},
   "outputs": [],
   "source": [
    "# 답안 저장 (예: quiz_1 = \"뚝딱뚝딱 정크아트\")\n",
    "quiz_1 = None"
   ]
  },
  {
   "cell_type": "markdown",
   "metadata": {},
   "source": [
    "---"
   ]
  },
  {
   "cell_type": "markdown",
   "metadata": {},
   "source": [
    "### 3.2. 지역별 행사 분포 및 규모 시각화"
   ]
  },
  {
   "cell_type": "markdown",
   "metadata": {},
   "source": [
    ">🚐 \"날씨도 좋으니 주말에는 좀 멀리 놀러 가볼까? 전국에서 열리는 큰 행사들을 찾아봐야지.\"\n",
    "\n",
    "전국에서 개최되는 행사들을 지도 위에 시각화하여 분포와 규모를 확인해 봅니다."
   ]
  },
  {
   "cell_type": "markdown",
   "metadata": {},
   "source": [
    "`event_df`에 행사별 위도 및 경도 정보가 있으니, 이를 지도 위에 점으로 표시할 수 있겠네요.     \n",
    "데이터가 많으니 3000개 샘플만 뽑아 사용하겠습니다.\n",
    "\n",
    ">📌 `folium`은 지리 정보를 시각화할 수 있는 지도를 생성하는 라이브러리입니다."
   ]
  },
  {
   "cell_type": "code",
   "execution_count": null,
   "metadata": {},
   "outputs": [],
   "source": [
    "# 결측치 없는 3000개 샘플만 선택\n",
    "map_df = event_df.dropna(subset=['위도', '경도']).copy()\n",
    "sampled_df = map_df.sample(n=3000, random_state=42)\n",
    "\n",
    "# 중심 좌표 계산\n",
    "center_lat = sampled_df['위도'].mean()\n",
    "center_lon = sampled_df['경도'].mean()\n",
    "\n",
    "# 지도 생성\n",
    "m = folium.Map(location=[center_lat, center_lon], zoom_start=6.5)\n",
    "\n",
    "# 마커 추가\n",
    "for idx, row in sampled_df.iterrows():\n",
    "    folium.CircleMarker(\n",
    "        location=[row['위도'], row['경도']],\n",
    "        radius=1,\n",
    "        color='darkblue',\n",
    "        fill=True,\n",
    "        fill_color='darkblue',\n",
    "        fill_opacity=0.8,\n",
    "        tooltip=f\"{row['행사명']} | {row['장소']}\"\n",
    "    ).add_to(m)\n",
    "\n",
    "m"
   ]
  },
  {
   "cell_type": "markdown",
   "metadata": {},
   "source": [
    "각 행사별 위치가 지도 위에 표시되었습니다.    \n",
    "마우스를 각 점 위에 올리면 해당 행사명과 장소를 확인할 수 있습니다.    "
   ]
  },
  {
   "cell_type": "markdown",
   "metadata": {},
   "source": [
    "이번에는 각 행사별 위치뿐만 아니라 규모(객석 수) 정보도 함께 표현해 볼까요?     \n",
    "위경도 좌표 기반으로 지도 위에 표시하되, 객석 수에 따라 원의 크기를 다르게 지정해 봅시다."
   ]
  },
  {
   "cell_type": "code",
   "execution_count": null,
   "metadata": {},
   "outputs": [],
   "source": [
    "# 결측치 없는 3000개 샘플만 선택\n",
    "map_df = event_df.dropna(subset=['위도', '경도', '객석수']).copy()\n",
    "sampled_df = map_df.sample(n=3000, random_state=42)\n",
    "\n",
    "# 중심 좌표 계산\n",
    "center_lat = sampled_df['위도'].mean()\n",
    "center_lon = sampled_df['경도'].mean()\n",
    "\n",
    "# 지도 생성\n",
    "m = folium.Map(location=[center_lat, center_lon], zoom_start=6.5)\n",
    "\n",
    "# 마커 추가\n",
    "for idx, row in sampled_df.iterrows():\n",
    "    # 객석수에 따라 반지름 계산\n",
    "    seats = row['객석수']\n",
    "    radius = np.clip(np.sqrt(seats) * 0.2, 2, 15)  # 최소 2, 최대 15 픽셀\n",
    "\n",
    "    folium.CircleMarker(\n",
    "        location=[row['위도'], row['경도']],\n",
    "        radius=radius,\n",
    "        color='darkblue',\n",
    "        fill=True,\n",
    "        fill_color='darkblue',\n",
    "        fill_opacity=0.2,\n",
    "        tooltip=f\"{row['행사명']} | {row['장소']} | 객석수: {int(seats)}\"\n",
    "    ).add_to(m)\n",
    "\n",
    "m"
   ]
  },
  {
   "cell_type": "markdown",
   "metadata": {},
   "source": [
    "이제 각 행사의 위치뿐만 아니라 규모까지 한 눈에 살펴볼 수 있게 되었네요!\n",
    "제천의 '박달가요제', 금산의 '더 트롯쇼' 등은 약 8000개 이상의 객석이 준비된 큰 축제인 것을 확인할 수 있습니다."
   ]
  },
  {
   "cell_type": "markdown",
   "metadata": {},
   "source": [
    "한편 행사 중 가장 많은 객석 수를 보유한 개최지는 어디일까요?     \n",
    "`event_df`에서 `객석수` 컬럼을 기준으로 내림차순 정렬하여 확인해 봅시다."
   ]
  },
  {
   "cell_type": "code",
   "execution_count": null,
   "metadata": {},
   "outputs": [],
   "source": [
    "# 객석 수 기준 내림차순 정렬\n",
    "top5_seats = event_df.dropna(subset=['객석수']).sort_values(by='객석수', ascending=False).head()\n",
    "top5_seats[['행사명', '장소', '소재지도로명주소', '객석수']]"
   ]
  },
  {
   "cell_type": "markdown",
   "metadata": {},
   "source": [
    "객석 수가 가장 많이 준비된 장소는 서울의 월드컵경기장이고, 총 66,704개의 객석이 마련되어 있네요."
   ]
  },
  {
   "cell_type": "markdown",
   "metadata": {},
   "source": [
    "---"
   ]
  },
  {
   "cell_type": "markdown",
   "metadata": {},
   "source": [
    "### 3.3. 입장 연령 분포 분석"
   ]
  },
  {
   "cell_type": "markdown",
   "metadata": {},
   "source": [
    ">👧 \"아이들을 데리고 갈만한 주변 행사들에는 어떤 것들이 있을까?\"\n",
    "\n",
    "입장 연령의 분류에 따라 행사들을 나누어 봅시다."
   ]
  },
  {
   "cell_type": "markdown",
   "metadata": {},
   "source": [
    "앞서 2. 데이터 정제하기에서 통일되지 않은 입장 연령 텍스트를 분류하여 `연령분류` 컬럼에 저장했던 과정을 기억하시나요?     \n",
    "다시 한번 분류 조건과 결과를 확인해 봅시다.\n",
    "\n",
    "**분류 조건 (텍스트 포함 여부)**:\n",
    "- `영유아`: 개월, 1-6세, 유아\n",
    "- `아동`: 7-12세, 초등, 초중, 취학, 아동\n",
    "- `청소년`: 13-18세, 중학, 중등, 중고, 고등, 청소년\n",
    "- `성인`: 19-60세, 성인 등 \n",
    "- `전체`: 전체, 모든 등"
   ]
  },
  {
   "cell_type": "code",
   "execution_count": null,
   "metadata": {},
   "outputs": [],
   "source": [
    "# 입장 연령 관련 컬럼 확인\n",
    "event_df[['입장연령', '연령분류']]"
   ]
  },
  {
   "cell_type": "markdown",
   "metadata": {},
   "source": [
    "이제 각 연령 분류별로 그룹화하여 그룹별 행사의 개수를 계산해 볼까요?"
   ]
  },
  {
   "cell_type": "code",
   "execution_count": null,
   "metadata": {},
   "outputs": [],
   "source": [
    "# 연령 분류별 행사 수 계산\n",
    "grouped = event_df.groupby('연령분류').size().sort_values(ascending=False)\n",
    "grouped"
   ]
  },
  {
   "cell_type": "markdown",
   "metadata": {},
   "source": [
    "'아동' 이상 관람 가능한 행사가 가장 많은 것을 알 수 있습니다.    \n",
    "한편 '성인' 이상만을 대상으로 하는 행사는 굉장히 적네요!"
   ]
  },
  {
   "cell_type": "markdown",
   "metadata": {},
   "source": [
    "그럼 각 분류별로 어떤 행사들이 있는지 가볍게 살펴볼까요?"
   ]
  },
  {
   "cell_type": "code",
   "execution_count": null,
   "metadata": {},
   "outputs": [],
   "source": [
    "# 영유아 대상 행사\n",
    "event_df.loc[event_df['연령분류'] == '영유아', ['행사명', '행사내용', '연령분류']]"
   ]
  },
  {
   "cell_type": "markdown",
   "metadata": {},
   "source": [
    "'영유아'를 대상으로 한 행사는 연극, 뮤지컬 등이 있네요."
   ]
  },
  {
   "cell_type": "code",
   "execution_count": null,
   "metadata": {},
   "outputs": [],
   "source": [
    "# 아동 대상 행사\n",
    "event_df.loc[event_df['연령분류'] == '아동', ['행사명', '행사내용', '연령분류']]"
   ]
  },
  {
   "cell_type": "markdown",
   "metadata": {},
   "source": [
    "'아동' 이상 관람 가능한 행사로는 다양한 공연 등이 있습니다."
   ]
  },
  {
   "cell_type": "code",
   "execution_count": null,
   "metadata": {},
   "outputs": [],
   "source": [
    "# 청소년 대상 행사\n",
    "event_df.loc[event_df['연령분류'] == '청소년', ['행사명', '행사내용', '연령분류']]"
   ]
  },
  {
   "cell_type": "markdown",
   "metadata": {},
   "source": [
    "'청소년' 대상 행사도 연극 등이 많네요."
   ]
  },
  {
   "cell_type": "code",
   "execution_count": null,
   "metadata": {},
   "outputs": [],
   "source": [
    "# 성인 대상 행사\n",
    "event_df.loc[event_df['연령분류'] == '성인', ['행사명', '행사내용', '연령분류']]"
   ]
  },
  {
   "cell_type": "markdown",
   "metadata": {},
   "source": [
    "'성인' 대상 행사로는 직장인들이나 교직원을 위한 전문 강좌들이 있습니다."
   ]
  },
  {
   "cell_type": "code",
   "execution_count": null,
   "metadata": {},
   "outputs": [],
   "source": [
    "# 전체 관람 가능 행사\n",
    "event_df.loc[event_df['연령분류'] == '전체', ['행사명', '행사내용', '연령분류']]"
   ]
  },
  {
   "cell_type": "markdown",
   "metadata": {},
   "source": [
    "마지막으로 '전체' 관람 가능 행사로는 온 가족이 함께 할 수 있는 콘서트, 박물관 전시회 등이 있네요."
   ]
  },
  {
   "cell_type": "markdown",
   "metadata": {},
   "source": [
    "---"
   ]
  },
  {
   "cell_type": "markdown",
   "metadata": {},
   "source": [
    "### 3.4. 행사 내용 키워드 분석"
   ]
  },
  {
   "cell_type": "markdown",
   "metadata": {},
   "source": [
    ">🖍️ \"올해 열린 전국 행사들에서 가장 많이 등장하는 키워드는 무엇일까?\"\n",
    "\n",
    "행사 내용 텍스트를 바탕으로 토큰화, n-gram, 워드클라우드 등을 통해 키워드를 분석해 봅니다."
   ]
  },
  {
   "cell_type": "markdown",
   "metadata": {},
   "source": [
    "텍스트에서 키워드를 분석하기 위해서는 '토큰화'라는 과정이 필요합니다.     \n",
    "토큰화는 문장을 공백, 구두점, 형태소 등의 기준으로 나누어 텍스트를 분석 가능한 최소 단위의 토큰으로 분리하는 전처리 과정입니다.    \n",
    "예) 명사 추출: \"학생은 도서관에서 책을 읽었다.\" → \"학생\", \"도서관\", \"책\""
   ]
  },
  {
   "cell_type": "markdown",
   "metadata": {},
   "source": [
    "먼저 토큰화를 위해 `event_df`의 `행사내용`컬럼 값들을 전부 하나의 리스트 안에 담아 봅시다."
   ]
  },
  {
   "cell_type": "code",
   "execution_count": null,
   "metadata": {},
   "outputs": [],
   "source": [
    "# 행사 내용 텍스트 리스트화\n",
    "corpus = event_df['행사내용'].dropna().tolist()\n",
    "\n",
    "# 중복 제거\n",
    "corpus = list(set(corpus))\n",
    "\n",
    "# 상위 10개 텍스트 확인\n",
    "corpus[:10]"
   ]
  },
  {
   "cell_type": "markdown",
   "metadata": {},
   "source": [
    "이제 토큰화를 진행할 '토크나이저'를 불러와야 합니다.    \n",
    "토크나이저는 텍스트를 정해진 규칙이나 알고리즘에 따라 토큰 단위로 분리해주는 도구입니다.    \n",
    "이번 분석에서는 한국어 토크나이저 중 하나인 `Okt`를 사용하겠습니다.\n",
    "\n",
    ">📌 `Okt`는 한국어 텍스트를 형태소 단위로 분석하고, 품사 태깅 및 토큰화를 지원하는 형태소 분석기입니다."
   ]
  },
  {
   "cell_type": "markdown",
   "metadata": {},
   "source": [
    "`Okt`를 통해 전체 텍스트에서 명사만 추출해 볼까요?"
   ]
  },
  {
   "cell_type": "code",
   "execution_count": null,
   "metadata": {},
   "outputs": [],
   "source": [
    "# Okt 객체 생성\n",
    "okt = Okt()\n",
    "\n",
    "# 명사 추출 (토큰화)\n",
    "tokenized_docs = [okt.nouns(doc) for doc in corpus]\n",
    "\n",
    "# 불필요한 짧은 단어 (한 글자) 제거\n",
    "tokens = [token for doc in tokenized_docs for token in doc if len(token) > 1]"
   ]
  },
  {
   "cell_type": "markdown",
   "metadata": {},
   "source": [
    "이제 행사 내용에서 가장 많이 등장한 명사 10개를 확인해 봅시다."
   ]
  },
  {
   "cell_type": "code",
   "execution_count": null,
   "metadata": {},
   "outputs": [],
   "source": [
    "# 단어 빈도수 계산\n",
    "word_counts = Counter(tokens)\n",
    "\n",
    "print(\"[상위 10개 단어]\")\n",
    "for word, count in word_counts.most_common(10):\n",
    "    print(f\"{word}: {count}\")"
   ]
  },
  {
   "cell_type": "markdown",
   "metadata": {},
   "source": [
    "'공연', '클래식', '뮤지컬' 등 공연과 관련한 단어가 가장 많이 등장한 것을 볼 수 있습니다."
   ]
  },
  {
   "cell_type": "markdown",
   "metadata": {},
   "source": [
    "다음으로 하나의 단어가 아닌 '연속된 여러 단어 묶음'을 분석하기 위해 텍스트를 N-gram으로 나타내 볼까요?\n",
    "\n",
    ">📌 `N-gram`은 텍스트에서 연속된 N개의 단어 단위를 추출하여 문맥이나 표현 패턴을 파악할 수 있도록 돕는 기법입니다."
   ]
  },
  {
   "cell_type": "markdown",
   "metadata": {},
   "source": [
    "먼저 두 개의 연속된 단어를 묶는 bigram을 통해 텍스트를 분석해 보겠습니다.     \n",
    "\n",
    ">📌 `CountVectorizer`는 텍스트 데이터를 단어의 등장 빈도 기준으로 벡터화하여 머신러닝 모델이 처리할 수 있는 수치 형태로 변환해주는 도구입니다. 주로 단어의 출현 횟수를 기반으로 문서의 특징을 추출할 때 사용됩니다.\n"
   ]
  },
  {
   "cell_type": "code",
   "execution_count": null,
   "metadata": {},
   "outputs": [],
   "source": [
    "# 토크나이저 정의\n",
    "def okt_tokenizer(text):\n",
    "    return [word for word in okt.nouns(text) if len(word) > 1]\n",
    "\n",
    "# bigram 분석\n",
    "# ngram_range=(a, b) : a개부터 b개까지 연속된 단어 조합\n",
    "vectorizer = CountVectorizer(tokenizer=okt_tokenizer, ngram_range=(2,2))\n",
    "X = vectorizer.fit_transform(corpus)\n",
    "\n",
    "# 빈도 계산 및 정렬\n",
    "ngram_freq = sorted(zip(vectorizer.get_feature_names_out(), X.sum(axis=0).tolist()[0]), key=lambda x: x[1], reverse=True)\n",
    "\n",
    "# 상위 20개 bigram 출력\n",
    "print(\"[상위 20개 bigram]\")\n",
    "for ngram, freq in ngram_freq[:20]:\n",
    "    print(f\"{ngram}: {freq}\")"
   ]
  },
  {
   "cell_type": "markdown",
   "metadata": {},
   "source": [
    "'OO 공연'과 같은 bigram이 많이 등장한 것을 확인할 수 있네요.     \n",
    "이번에는 연속된 3개의 단어를 묶는 trigram을 분석해 보겠습니다."
   ]
  },
  {
   "cell_type": "code",
   "execution_count": null,
   "metadata": {},
   "outputs": [],
   "source": [
    "# trigram 분석\n",
    "# ngram_range=(a, b) : a개부터 b개까지 연속된 단어 조합\n",
    "vectorizer = CountVectorizer(tokenizer=okt_tokenizer, ngram_range=(3, 3))\n",
    "X = vectorizer.fit_transform(corpus)\n",
    "\n",
    "# 빈도 계산 및 정렬\n",
    "ngram_freq = sorted(zip(vectorizer.get_feature_names_out(), X.sum(axis=0).tolist()[0]), key=lambda x: x[1], reverse=True)\n",
    "\n",
    "# 상위 20개 trigram 출력\n",
    "print(\"[상위 20개 trigram]\")\n",
    "for ngram, freq in ngram_freq[:20]:\n",
    "    print(f\"{ngram}: {freq}\")"
   ]
  },
  {
   "cell_type": "markdown",
   "metadata": {},
   "source": [
    "bigram보다는 조금 더 다양한 단어의 조합이 나타난 것을 볼 수 있습니다."
   ]
  },
  {
   "cell_type": "markdown",
   "metadata": {},
   "source": [
    "다음으로 키워드의 등장 빈도를 워드클라우드로 시각화해 볼까요?\n",
    "\n",
    ">📌 `WordCloud`는 텍스트 데이터에서 단어의 중요도나 빈도를 시각적으로 표현하는 그래픽 도구로, 자주 등장하는 단어일수록 크고 굵게 표시되어 직관적으로 핵심 키워드를 파악할 수 있게 도와줍니다."
   ]
  },
  {
   "cell_type": "markdown",
   "metadata": {},
   "source": [
    "공연 행사 데이터의 행사 내용 텍스트를 워드클라우드로 만들어 봅시다."
   ]
  },
  {
   "cell_type": "code",
   "execution_count": null,
   "metadata": {},
   "outputs": [],
   "source": [
    "# 워드클라우드 시각화\n",
    "wordcloud = WordCloud(font_path='data/NanumGothicCoding-Bold.ttf', width=800, height=600, background_color='white')\n",
    "wordcloud = wordcloud.generate_from_frequencies(word_counts)\n",
    "\n",
    "plt.figure(figsize=(10, 7))\n",
    "plt.imshow(wordcloud, interpolation='bilinear')\n",
    "plt.axis('off')\n",
    "plt.show()"
   ]
  },
  {
   "cell_type": "markdown",
   "metadata": {},
   "source": [
    "'공연', '콘서트', '뮤지컬'과 같은 키워드가 강조되었네요.    "
   ]
  },
  {
   "cell_type": "markdown",
   "metadata": {},
   "source": [
    "마지막으로 문화 축제 데이터의 축제 내용 텍스트도 워드클라우드로 만들어 봅시다."
   ]
  },
  {
   "cell_type": "code",
   "execution_count": null,
   "metadata": {},
   "outputs": [],
   "source": [
    "# 축제 데이터 내용 텍스트 리스트화\n",
    "corpus = festival_df['축제내용'].dropna().tolist()\n",
    "corpus = list(set(corpus))\n",
    "\n",
    "# 명사 추출 (토큰화)\n",
    "tokenized_docs = [okt.nouns(doc) for doc in corpus]\n",
    "tokens = [token for doc in tokenized_docs for token in doc if len(token) > 1]\n",
    "\n",
    "# 단어 빈도수 계산\n",
    "word_counts = Counter(tokens)\n",
    "\n",
    "wordcloud = WordCloud(font_path='data/NanumGothicCoding-Bold.ttf', width=800, height=600, background_color='white')\n",
    "wordcloud = wordcloud.generate_from_frequencies(word_counts)\n",
    "\n",
    "plt.figure(figsize=(10, 7))\n",
    "plt.imshow(wordcloud, interpolation='bilinear')\n",
    "plt.axis('off')\n",
    "plt.show()"
   ]
  },
  {
   "cell_type": "markdown",
   "metadata": {},
   "source": [
    "문화 축제 데이터에서는 '체험', '전시', '행사' 등의 키워드가 강조된 것을 확인할 수 있습니다."
   ]
  },
  {
   "cell_type": "markdown",
   "metadata": {},
   "source": [
    "---"
   ]
  },
  {
   "cell_type": "markdown",
   "metadata": {},
   "source": [
    "### 3.5. 관람 요금 분석"
   ]
  },
  {
   "cell_type": "markdown",
   "metadata": {},
   "source": [
    ">🎟️ \"아동 대상 행사의 관람 요금은 성인 대상 행사보다 저렴할까?\"\n",
    "\n",
    "공연 행사 데이터의 요금 정보 및 연령 분류벌 관람 요금을 분석해 봅니다."
   ]
  },
  {
   "cell_type": "markdown",
   "metadata": {},
   "source": [
    "먼저 `event_df`의 `요금정보` 열을 확인해 볼까요?"
   ]
  },
  {
   "cell_type": "code",
   "execution_count": null,
   "metadata": {},
   "outputs": [],
   "source": [
    "# 요금 정보 컬럼 고유값 확인\n",
    "event_df['요금정보'].value_counts()"
   ]
  },
  {
   "cell_type": "markdown",
   "metadata": {},
   "source": [
    "각 행사별로 무료/유료/혼합과 같이 요금 정보 라벨이 표시되어 있습니다."
   ]
  },
  {
   "cell_type": "markdown",
   "metadata": {},
   "source": [
    "이번에는 `관람요금` 컬럼을 확인해 봅시다."
   ]
  },
  {
   "cell_type": "code",
   "execution_count": null,
   "metadata": {},
   "outputs": [],
   "source": [
    "# 관람 요금 상위 5개 행 확인\n",
    "event_df['관람요금'].head()"
   ]
  },
  {
   "cell_type": "markdown",
   "metadata": {},
   "source": [
    "각 행사별 관람 요금(단위: 원)이 표시되어 있네요.    \n",
    "결측치는 해당 행사가 무료인 경우나 데이터를 정제할 때 이상치로 분류된 경우입니다."
   ]
  },
  {
   "cell_type": "markdown",
   "metadata": {},
   "source": [
    "관람 요금이 가장 비싼 행사는 무엇일까요?     \n",
    "`관람요금` 열을 기준으로 내림차순 정렬하여 확인해 봅시다."
   ]
  },
  {
   "cell_type": "code",
   "execution_count": null,
   "metadata": {},
   "outputs": [],
   "source": [
    "# 관람 요금이 0보다 큰 행만 필터링\n",
    "filtered_df = event_df[event_df['관람요금'] > 0]\n",
    "\n",
    "# 관람 요금 기준 내림차순 정렬\n",
    "top5 = filtered_df.sort_values(by='관람요금', ascending=False).head()\n",
    "top5[['행사명', '행사내용', '관람요금']]"
   ]
  },
  {
   "cell_type": "markdown",
   "metadata": {},
   "source": [
    "관람 요금이 비싼 상위 5개의 행사를 살펴보면 전부 '콘서트'에 해당하는 것을 알 수 있습니다."
   ]
  },
  {
   "cell_type": "markdown",
   "metadata": {},
   "source": [
    "다음으로 연령 분류 그룹에 따라 관람 요금의 평균이 얼마인지 확인해 볼까요?     \n",
    "관람 요금이 무료가 아닌 데이터 중에서 `연령분류` 열을 기준으로 그룹화하여 `관람요금` 컬럼의 평균을 계산해 봅시다."
   ]
  },
  {
   "cell_type": "code",
   "execution_count": null,
   "metadata": {},
   "outputs": [],
   "source": [
    "# 연령 분류 기준으로 그룹화하여 관람 요금 평균 계산\n",
    "grouped = filtered_df.groupby('연령분류')['관람요금'].mean().sort_values(ascending=False)\n",
    "grouped"
   ]
  },
  {
   "cell_type": "markdown",
   "metadata": {},
   "source": [
    "직관적인 비교를 위해 위 정보를 시각화하여 분석해 봅시다."
   ]
  },
  {
   "cell_type": "code",
   "execution_count": null,
   "metadata": {},
   "outputs": [],
   "source": [
    "# 시각화\n",
    "plt.figure(figsize=(10, 6))\n",
    "plt.bar(grouped.index.tolist(), grouped.values, color='skyblue')\n",
    "plt.title('연령 분류별 평균 관람요금', fontsize=14)\n",
    "plt.xlabel('연령 분류', fontsize=12)\n",
    "plt.ylabel('평균 관람요금 (원)', fontsize=12)\n",
    "plt.grid(axis='y', linestyle='--', alpha=0.7)\n",
    "for i, v in enumerate(grouped.values):\n",
    "    plt.text(i, v + 1000, f'{int(v):,}원', ha='center', fontsize=10)\n",
    "plt.tight_layout()\n",
    "plt.show()"
   ]
  },
  {
   "cell_type": "markdown",
   "metadata": {},
   "source": [
    "성인을 대상으로 한 행사의 평균 관람 요금이 가장 높았고, 기타와 전체를 제외하면 청소년 대상 행사의 평균 관람 요금이 가장 낮았네요."
   ]
  },
  {
   "cell_type": "markdown",
   "metadata": {},
   "source": [
    "마지막으로 행사 시간과 관람 요금 사이의 상관관계를 분석해 봅시다.    \n",
    "행사 시간이 길수록, 즉 3시간 분량의 행사보다 6시간 분량의 행사가 관람 요금이 비쌀까요?    \n",
    "행사 시간은 `행사종료일시` - `행사시작일시`로 계산하고, 24시간을 초과하는 데이터는 제외하겠습니다.    \n",
    "예) 11:00 ~ 17:00 = 6시간"
   ]
  },
  {
   "cell_type": "code",
   "execution_count": null,
   "metadata": {},
   "outputs": [],
   "source": [
    "# 행사 시간 계산\n",
    "filtered_df['시간'] = ((filtered_df['행사종료일시'] - filtered_df['행사시작일시']).dt.total_seconds() / 3600).astype(float)\n",
    "filtered_df = filtered_df[(filtered_df['시간'] > 0) & (filtered_df['시간'] < 24)]\n",
    "filtered_df[['행사시작일시', '행사종료일시', '시간']]"
   ]
  },
  {
   "cell_type": "markdown",
   "metadata": {},
   "source": [
    "이제 행사 시간과 관람 요금 사이의 상관관계를 살펴볼까요?"
   ]
  },
  {
   "cell_type": "code",
   "execution_count": null,
   "metadata": {},
   "outputs": [],
   "source": [
    "# 행사 시간과 관람 요금의 상관관계 분석\n",
    "filtered_df[['시간', '관람요금']].corr()"
   ]
  },
  {
   "cell_type": "markdown",
   "metadata": {},
   "source": [
    "상관계수가 거의 0에 가깝고, 음의 상관관계를 보이고 있네요.    \n",
    "즉 행사 시간과 관람 요금은 선형적인 관계가 거의 없다고 봐도 될 것 같습니다."
   ]
  },
  {
   "cell_type": "markdown",
   "metadata": {},
   "source": [
    "산점도를 통해 분포를 시각화해 봅시다."
   ]
  },
  {
   "cell_type": "code",
   "execution_count": null,
   "metadata": {},
   "outputs": [],
   "source": [
    "plt.figure(figsize=(8, 6))\n",
    "plt.scatter(filtered_df['시간'], filtered_df['관람요금'], alpha=0.6)\n",
    "plt.title('행사 시간 vs 관람 요금 산점도')\n",
    "plt.xlabel('시간 (시)')\n",
    "plt.ylabel('관람 요금 (원)')\n",
    "plt.grid(True)\n",
    "plt.show()"
   ]
  },
  {
   "cell_type": "markdown",
   "metadata": {},
   "source": [
    "상관계수에서 확인했던 것처럼, 행사 시간과 관람 요금 사이에는 선형적인 상관관계가 보이지 않습니다.    \n",
    "하루 종일 진행되는 행사가 아주 저렴한 경우도 있고, 2시간 정도 진행되는 행사가 아주 비싼 경우도 있네요."
   ]
  },
  {
   "cell_type": "markdown",
   "metadata": {},
   "source": [
    "---"
   ]
  },
  {
   "cell_type": "markdown",
   "metadata": {},
   "source": [
    "### <span style=\"font-size:24px\">[Quiz 2]</span>"
   ]
  },
  {
   "cell_type": "markdown",
   "metadata": {},
   "source": [
    "❓행사 데이터에서 연령 분류가 '영유아'인 행사 중 요금 정보가 '무료'인 행사는 몇 개일까요?\n",
    "\n",
    "- 조건:\n",
    "    - `event_df`를 `연령분류`, `요금정보` 열을 기준으로 그룹화하여 개수 계산\n",
    "    - `연령분류`가 '영유아'이고 `요금정보`가 '무료'인 경우의 개수 (주의: `관람요금` 기준이 아님!)\n",
    "- 답안 형식:\n",
    "    - `quiz_2` 변수에 답안을 `int` 형식으로 저장"
   ]
  },
  {
   "cell_type": "code",
   "execution_count": null,
   "metadata": {},
   "outputs": [],
   "source": [
    "# 힌트:\n",
    "# 앞서 연령 분류별로 그룹화하여 개수를 셌던 코드를 참고합니다. ['연령분류', '요금정보']와 같이 여러개의 컬럼을 그룹화할 수 있습니다.\n",
    "# grouped = event_df.groupby('연령분류').size()\n",
    "# 연령 분류가 '영유아'이고 요금 정보가 '무료'인 경우의 개수를 세어봅니다. 이때 '관람요금'이 아니라 '요금정보'열을 확인해야 합니다!\n"
   ]
  },
  {
   "cell_type": "code",
   "execution_count": null,
   "metadata": {},
   "outputs": [],
   "source": [
    "# 답안 저장 (예: quiz_2 = 100)\n",
    "quiz_2 = None"
   ]
  },
  {
   "cell_type": "markdown",
   "metadata": {},
   "source": [
    "---"
   ]
  },
  {
   "cell_type": "markdown",
   "metadata": {},
   "source": [
    "## 4. 퀴즈 제출하기"
   ]
  },
  {
   "cell_type": "markdown",
   "metadata": {},
   "source": [
    "`3. 데이터 분석하기` 섹션에서 [Quiz] 2개를 모두 완료한 후, 아래 코드를 실행하여 정답을 저장할 수 있습니다.   \n",
    "저장 후 오른쪽 상단의 '제출' 버튼을 클릭해 주세요.\n",
    "\n",
    "🟨 **주의 사항**\n",
    "- 아래 코드를 실행하기 전 `quiz_1`, `quiz_2` 변수가 제대로 저장되었는지, 지정된 타입이 맞는지 반드시 확인해 주세요.\n",
    "- 아래 코드를 임의로 수정할 경우 채점이 제대로 이루어지지 않을 수 있습니다."
   ]
  },
  {
   "cell_type": "code",
   "execution_count": null,
   "metadata": {},
   "outputs": [],
   "source": [
    "import json\n",
    "\n",
    "student_answers = {}\n",
    "student_answers[\"quiz_1\"] = str(quiz_1)\n",
    "student_answers[\"quiz_2\"] = int(quiz_2)\n",
    "\n",
    "with open(\"result.json\", \"w\") as f:\n",
    "    json.dump(student_answers, f)"
   ]
  }
 ],
 "metadata": {
  "kernelspec": {
   "display_name": "Python 3 (ipykernel)",
   "language": "python",
   "name": "python3"
  },
  "language_info": {
   "codemirror_mode": {
    "name": "ipython",
    "version": 3
   },
   "file_extension": ".py",
   "mimetype": "text/x-python",
   "name": "python",
   "nbconvert_exporter": "python",
   "pygments_lexer": "ipython3",
   "version": "3.10.14"
  }
 },
 "nbformat": 4,
 "nbformat_minor": 2
}
